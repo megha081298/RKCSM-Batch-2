{
 "cells": [
  {
   "cell_type": "code",
   "execution_count": null,
   "id": "5d25fea2",
   "metadata": {},
   "outputs": [],
   "source": [
    "#metacharcters   \n",
    "\n",
    "What is regular expression?\n",
    "it is string containing some rules to match or define particular pattern.\n",
    "\n",
    "---->Pattern validation\n",
    "-----> Pattern Extraction\n",
    "-----> String matching and finding\n"
   ]
  },
  {
   "cell_type": "markdown",
   "id": "e3dd664b",
   "metadata": {},
   "source": [
    "# Ma'am can you show how to search email expression?"
   ]
  },
  {
   "cell_type": "markdown",
   "id": "43bfe406",
   "metadata": {},
   "source": [
    "# Metacharacters "
   ]
  },
  {
   "cell_type": "code",
   "execution_count": null,
   "id": "daf03e38",
   "metadata": {},
   "outputs": [],
   "source": [
    ".(dot)---> matches with all the characters,digits, special charac etc.. expect the newline char \"\\n\".\n",
    ". sinlge dot--> means single charc,dgits and same thing mentioned above.\n",
    "\n",
    "[]--> Character class A set of characters.\n",
    "[A-Z]--->A or B or C....... Z  All capital alphabets \n",
    "[a-z]----> a or b ..... z      All small alphabets\n",
    "[A-Za-z]----> All small +All Capital\n",
    "[0-9]------> all thw digits\n",
    "[!-*]-------> Special Characters\n",
    "@ is not included.\n",
    "\n",
    "\n",
    "Quantifiers:\n",
    "    +-----> one or more occurance\n",
    "    *------> zero or more occurence\n",
    "    ?-------> once or not at all.\n",
    "    \n",
    "Achors:\n",
    "    ^ ------> for fixing the start of string\n",
    "    $ -------> end of string.\n",
    "    \n",
    "    \n",
    "Counting elements:\n",
    "    [a-z]{2}----> exactly 2 times it should occur\n",
    "    [9-0]{3}-----> extacly 3 times.\n",
    "    \n",
    "Compliment:\n",
    "    \n",
    "    ^ -------> reversal\n",
    "    "
   ]
  },
  {
   "cell_type": "code",
   "execution_count": 1,
   "id": "f0fc4b9e",
   "metadata": {},
   "outputs": [],
   "source": [
    "import re    #library---->modules---->functions"
   ]
  },
  {
   "cell_type": "code",
   "execution_count": 2,
   "id": "49a7699a",
   "metadata": {},
   "outputs": [
    {
     "name": "stdout",
     "output_type": "stream",
     "text": [
      "<re.Match object; span=(0, 1), match='D'>\n"
     ]
    }
   ],
   "source": [
    "#re.search matches the first pattern according to the regx inside the string which is \"M\" in this case\n",
    "regex=\".\"\n",
    "x=\"Data Science\"\n",
    "print(re.search(regex,x))"
   ]
  },
  {
   "cell_type": "code",
   "execution_count": 3,
   "id": "7a686c2f",
   "metadata": {},
   "outputs": [
    {
     "name": "stdout",
     "output_type": "stream",
     "text": [
      "['D', 'a', 't', 'a', ' ', 'S', 'c', 'i', 'e', 'n', 'c', 'e']\n"
     ]
    }
   ],
   "source": [
    "regex=\".\"\n",
    "x=\"Data Science\"\n",
    "print(re.findall(regex,x))"
   ]
  },
  {
   "cell_type": "code",
   "execution_count": 72,
   "id": "b458d076",
   "metadata": {},
   "outputs": [
    {
     "name": "stdout",
     "output_type": "stream",
     "text": [
      "<re.Match object; span=(5, 6), match='S'>\n"
     ]
    }
   ],
   "source": [
    "regex=\"[A-Z]\"\n",
    "x=\"data SciencE\"\n",
    "print(re.search(regex,x))"
   ]
  },
  {
   "cell_type": "code",
   "execution_count": 5,
   "id": "009d2fcb",
   "metadata": {},
   "outputs": [
    {
     "name": "stdout",
     "output_type": "stream",
     "text": [
      "['D', 'S']\n"
     ]
    }
   ],
   "source": [
    "regex=\"[A-Z]\"\n",
    "x=\"Data Science\"\n",
    "print(re.findall(regex,x))"
   ]
  },
  {
   "cell_type": "code",
   "execution_count": 6,
   "id": "306a61d5",
   "metadata": {},
   "outputs": [
    {
     "name": "stdout",
     "output_type": "stream",
     "text": [
      "['D']\n",
      "['S', 'C']\n",
      "['F']\n",
      "[]\n",
      "[]\n",
      "[]\n",
      "['J', 'J']\n"
     ]
    }
   ],
   "source": [
    "regex=\"[A-Z]\"\n",
    "x=[\"Data\",\"SCiece\",\"Football\",\"basketball\",\"$alary\",\"#orse\",\"Jack&Jones\"]\n",
    "for i in x:\n",
    "    print(re.findall(regex,i))"
   ]
  },
  {
   "cell_type": "code",
   "execution_count": 7,
   "id": "6acdcb19",
   "metadata": {},
   "outputs": [
    {
     "name": "stdout",
     "output_type": "stream",
     "text": [
      "<re.Match object; span=(0, 1), match='D'>\n",
      "<re.Match object; span=(0, 1), match='S'>\n",
      "<re.Match object; span=(0, 1), match='F'>\n",
      "None\n",
      "None\n",
      "None\n",
      "<re.Match object; span=(0, 1), match='J'>\n"
     ]
    }
   ],
   "source": [
    "regex=\"[A-Z]\"\n",
    "x=[\"Data\",\"SCiece\",\"Football\",\"basketball\",\"$alary\",\"#orse\",\"Jack&Jones\"]\n",
    "for y in x:\n",
    "    print(re.search(regex,y))"
   ]
  },
  {
   "cell_type": "code",
   "execution_count": 8,
   "id": "83e4a75f",
   "metadata": {},
   "outputs": [
    {
     "name": "stdout",
     "output_type": "stream",
     "text": [
      "<re.Match object; span=(1, 2), match='a'>\n",
      "<re.Match object; span=(2, 3), match='i'>\n",
      "<re.Match object; span=(1, 2), match='o'>\n",
      "<re.Match object; span=(0, 1), match='b'>\n",
      "<re.Match object; span=(1, 2), match='a'>\n",
      "<re.Match object; span=(1, 2), match='o'>\n",
      "<re.Match object; span=(1, 2), match='a'>\n"
     ]
    }
   ],
   "source": [
    "regex=\"[a-z]\"\n",
    "x=[\"Data\",\"SCiece\",\"Football\",\"basketball\",\"$alary\",\"#orse\",\"Jack&Jones\"]\n",
    "for y in x:\n",
    "    print(re.search(regex,y))"
   ]
  },
  {
   "cell_type": "code",
   "execution_count": 9,
   "id": "2681f6b6",
   "metadata": {},
   "outputs": [
    {
     "name": "stdout",
     "output_type": "stream",
     "text": [
      "['D', 'a', 't', 'a']\n",
      "['S', 'C', 'i', 'e', 'c', 'e']\n",
      "['F', 'o', 'o', 't', 'b', 'a', 'l', 'l']\n",
      "['b', 'a', 's', 'k', 'e', 't', 'b', 'a', 'l', 'l']\n",
      "['a', 'l', 'a', 'r', 'y']\n",
      "['o', 'r', 's', 'e']\n",
      "['J', 'a', 'c', 'k', 'J', 'o', 'n', 'e', 's']\n"
     ]
    }
   ],
   "source": [
    "regex=\"[a-zA-Z]\"\n",
    "x=[\"Data\",\"SCiece\",\"Football\",\"basketball\",\"$alary\",\"#orse\",\"Jack&Jones\"]\n",
    "for y in x:\n",
    "    print(re.findall(regex,y))"
   ]
  },
  {
   "cell_type": "code",
   "execution_count": 10,
   "id": "87b9e6bc",
   "metadata": {},
   "outputs": [
    {
     "name": "stdout",
     "output_type": "stream",
     "text": [
      "<re.Match object; span=(0, 1), match='D'>\n",
      "<re.Match object; span=(0, 1), match='S'>\n",
      "<re.Match object; span=(0, 1), match='F'>\n",
      "<re.Match object; span=(0, 1), match='b'>\n",
      "<re.Match object; span=(1, 2), match='a'>\n",
      "<re.Match object; span=(1, 2), match='o'>\n",
      "<re.Match object; span=(0, 1), match='J'>\n"
     ]
    }
   ],
   "source": [
    "regex=\"[A-Za-z]\"\n",
    "x=[\"Data\",\"SCiece\",\"Football\",\"basketball\",\"$alary\",\"#orse\",\"Jack&Jones\"]\n",
    "for y in x:\n",
    "    print(re.search(regex,y))"
   ]
  },
  {
   "cell_type": "code",
   "execution_count": 11,
   "id": "0bd2fe42",
   "metadata": {},
   "outputs": [
    {
     "name": "stdout",
     "output_type": "stream",
     "text": [
      "None\n",
      "None\n",
      "<re.Match object; span=(1, 2), match='0'>\n",
      "None\n",
      "None\n",
      "<re.Match object; span=(1, 2), match='0'>\n",
      "<re.Match object; span=(10, 11), match='1'>\n"
     ]
    }
   ],
   "source": [
    "regex=\"[0-9]\"\n",
    "x=[\"Data\",\"SCiece\",\"F00tball\",\"basketball\",\"$alary\",\"#0rse\",\"Jack&Jones100\"]\n",
    "for y in x:\n",
    "    print(re.search(regex,y))"
   ]
  },
  {
   "cell_type": "code",
   "execution_count": 12,
   "id": "f38de136",
   "metadata": {},
   "outputs": [
    {
     "name": "stdout",
     "output_type": "stream",
     "text": [
      "['D', 'a', 't', 'a']\n",
      "['S', 'C', 'i', 'e', 'c', 'e']\n",
      "['F', '0', '0', 't', 'b', 'a', 'l', 'l']\n",
      "['b', 'a', 's', 'k', 'e', 't', 'b', 'a', 'l', 'l']\n",
      "['a', 'l', 'a', 'r', 'y']\n",
      "['0', 'r', 's', 'e']\n",
      "['J', 'a', 'c', 'k', 'J', 'o', 'n', 'e', 's', '1', '0', '0']\n"
     ]
    }
   ],
   "source": [
    "regex=\"[A-Za-z0-9]\"\n",
    "x=[\"Data\",\"SCiece\",\"F00tball\",\"basketball\",\"$alary\",\"#0rse\",\"Jack&Jones100\"]\n",
    "for y in x:\n",
    "    print(re.findall(regex,y))"
   ]
  },
  {
   "cell_type": "code",
   "execution_count": 13,
   "id": "50a5b9cf",
   "metadata": {},
   "outputs": [
    {
     "name": "stdout",
     "output_type": "stream",
     "text": [
      "<re.Match object; span=(0, 1), match='D'>\n",
      "<re.Match object; span=(0, 1), match='S'>\n",
      "<re.Match object; span=(0, 1), match='F'>\n",
      "<re.Match object; span=(0, 1), match='b'>\n",
      "<re.Match object; span=(1, 2), match='a'>\n",
      "<re.Match object; span=(1, 2), match='0'>\n",
      "<re.Match object; span=(0, 1), match='J'>\n"
     ]
    }
   ],
   "source": [
    "regex=\"[A-Za-z0-9]\"\n",
    "x=[\"Data\",\"SCiece\",\"F00tball\",\"basketball\",\"$alary\",\"#0rse\",\"Jack&Jones100\"]\n",
    "for y in x:\n",
    "    print(re.search(regex,y))"
   ]
  },
  {
   "cell_type": "code",
   "execution_count": 14,
   "id": "e2c4bf24",
   "metadata": {},
   "outputs": [
    {
     "name": "stdout",
     "output_type": "stream",
     "text": [
      "<re.Match object; span=(0, 1), match='D'>\n",
      "<re.Match object; span=(0, 1), match='S'>\n",
      "<re.Match object; span=(0, 1), match='F'>\n",
      "<re.Match object; span=(0, 1), match='b'>\n",
      "<re.Match object; span=(1, 2), match='a'>\n",
      "<re.Match object; span=(1, 2), match='o'>\n",
      "<re.Match object; span=(0, 1), match='J'>\n"
     ]
    }
   ],
   "source": [
    "regex=\"[A-Za-z]\"\n",
    "x=[\"Data\",\"SCiece\",\"Football\",\"basketball\",\"$alary\",\"#orse\",\"Jack&Jones\"]\n",
    "for y in x:\n",
    "    print(re.search(regex,y))"
   ]
  },
  {
   "cell_type": "code",
   "execution_count": 15,
   "id": "2dfb9d55",
   "metadata": {},
   "outputs": [
    {
     "name": "stdout",
     "output_type": "stream",
     "text": [
      "<re.Match object; span=(0, 1), match='A'>\n"
     ]
    }
   ],
   "source": [
    "regx=\"[A-Z]\"\n",
    "x=\"APPLE\"\n",
    "print(re.search(regx,x))"
   ]
  },
  {
   "cell_type": "code",
   "execution_count": 16,
   "id": "4ff5c772",
   "metadata": {},
   "outputs": [
    {
     "name": "stdout",
     "output_type": "stream",
     "text": [
      "<re.Match object; span=(0, 40), match='AAAAAAAAAAAAAAAAPPPPPPPPPPPPPPPPPPPPPPPP'>\n"
     ]
    }
   ],
   "source": [
    "regx=\"[A-Z]+\"\n",
    "x=\"AAAAAAAAAAAAAAAAPPPPPPPPPPPPPPPPPPPPPPPPle\"\n",
    "print(re.search(regx,x))"
   ]
  },
  {
   "cell_type": "code",
   "execution_count": 17,
   "id": "0de05330",
   "metadata": {},
   "outputs": [
    {
     "name": "stdout",
     "output_type": "stream",
     "text": [
      "<re.Match object; span=(4, 30), match='AAAAAAAAAAAAAAAAAAAABBBBBB'>\n"
     ]
    }
   ],
   "source": [
    "regx=\"[A-C]+\"    #A or B or C\n",
    "x=\"MEGHAAAAAAAAAAAAAAAAAAAABBBBBBaaaaaaaCCCCCCCCCC\"\n",
    "print(re.search(regx,x))"
   ]
  },
  {
   "cell_type": "code",
   "execution_count": 18,
   "id": "1648000e",
   "metadata": {},
   "outputs": [
    {
     "name": "stdout",
     "output_type": "stream",
     "text": [
      "['AAAAAAAAAAAAAAAAAAAABBBBBB', 'CCCCCCCCCC']\n"
     ]
    }
   ],
   "source": [
    "regx=\"[A-C]+\"    #A or B or C\n",
    "x=\"MEGHAAAAAAAAAAAAAAAAAAAABBBBBBaaaaaaaCCCCCCCCCC\"\n",
    "print(re.findall(regx,x))"
   ]
  },
  {
   "cell_type": "code",
   "execution_count": 19,
   "id": "edea5460",
   "metadata": {},
   "outputs": [
    {
     "name": "stdout",
     "output_type": "stream",
     "text": [
      "['', '', '', '', 'AAAAAAAAAAAAAAAAAAAABBBBBB', '', '', '', '', '', '', '', 'CCCCCCCCCC', '']\n"
     ]
    }
   ],
   "source": [
    "regx=\"[A-C]*\"    #A or B or C\n",
    "x=\"MEGHAAAAAAAAAAAAAAAAAAAABBBBBBaaaaaaaCCCCCCCCCC\"\n",
    "print(re.findall(regx,x))"
   ]
  },
  {
   "cell_type": "code",
   "execution_count": 71,
   "id": "0c3704e9",
   "metadata": {},
   "outputs": [
    {
     "name": "stdout",
     "output_type": "stream",
     "text": [
      "['A', '', '', '', '', '', '', '', 'C', 'C', 'C', 'C', '']\n"
     ]
    }
   ],
   "source": [
    "regx=\"[A-Z]?\"    #A or B or C\n",
    "x=\"AaaaaaaaCCCC\"\n",
    "print(re.findall(regx,x))"
   ]
  },
  {
   "cell_type": "code",
   "execution_count": 21,
   "id": "847c3f1b",
   "metadata": {},
   "outputs": [
    {
     "name": "stdout",
     "output_type": "stream",
     "text": [
      "None\n",
      "None\n",
      "None\n",
      "None\n",
      "<re.Match object; span=(0, 1), match='$'>\n",
      "<re.Match object; span=(0, 1), match='#'>\n",
      "<re.Match object; span=(4, 5), match='&'>\n"
     ]
    }
   ],
   "source": [
    "regex=\"[!-*]\"\n",
    "x=[\"Data\",\"SCiece\",\"F00tball\",\"b@sketball\",\"$alary\",\"#0rse\",\"Jack&Jones100\"]\n",
    "for y in x:\n",
    "    print(re.search(regex,y))"
   ]
  },
  {
   "cell_type": "code",
   "execution_count": 22,
   "id": "3ed49bda",
   "metadata": {},
   "outputs": [
    {
     "data": {
      "text/plain": [
       "33"
      ]
     },
     "execution_count": 22,
     "metadata": {},
     "output_type": "execute_result"
    }
   ],
   "source": [
    "ord(\"!\")"
   ]
  },
  {
   "cell_type": "code",
   "execution_count": 23,
   "id": "f48c9755",
   "metadata": {},
   "outputs": [
    {
     "data": {
      "text/plain": [
       "64"
      ]
     },
     "execution_count": 23,
     "metadata": {},
     "output_type": "execute_result"
    }
   ],
   "source": [
    "ord(\"@\")"
   ]
  },
  {
   "cell_type": "code",
   "execution_count": 24,
   "id": "f53e74c5",
   "metadata": {},
   "outputs": [
    {
     "data": {
      "text/plain": [
       "35"
      ]
     },
     "execution_count": 24,
     "metadata": {},
     "output_type": "execute_result"
    }
   ],
   "source": [
    "ord(\"#\")"
   ]
  },
  {
   "cell_type": "code",
   "execution_count": 25,
   "id": "96b7ac93",
   "metadata": {},
   "outputs": [
    {
     "data": {
      "text/plain": [
       "36"
      ]
     },
     "execution_count": 25,
     "metadata": {},
     "output_type": "execute_result"
    }
   ],
   "source": [
    "ord(\"$\")"
   ]
  },
  {
   "cell_type": "code",
   "execution_count": 26,
   "id": "e3b822cd",
   "metadata": {},
   "outputs": [],
   "source": [
    "text=\"This    Megja kjoenjfehfwi74658347597rhfeaijafkdnfaksdn\"\n",
    "x=re.search(\"^This.*\",text)"
   ]
  },
  {
   "cell_type": "code",
   "execution_count": 27,
   "id": "8d1ce1fa",
   "metadata": {},
   "outputs": [
    {
     "name": "stdout",
     "output_type": "stream",
     "text": [
      "<re.Match object; span=(0, 55), match='This    Megja kjoenjfehfwi74658347597rhfeaijafkdn>\n"
     ]
    }
   ],
   "source": [
    "print(x)"
   ]
  },
  {
   "cell_type": "code",
   "execution_count": 28,
   "id": "50f778c3",
   "metadata": {},
   "outputs": [
    {
     "data": {
      "text/plain": [
       "56"
      ]
     },
     "execution_count": 28,
     "metadata": {},
     "output_type": "execute_result"
    }
   ],
   "source": [
    "ord(\"8\")"
   ]
  },
  {
   "cell_type": "code",
   "execution_count": 29,
   "id": "721ba7cf",
   "metadata": {},
   "outputs": [
    {
     "name": "stdout",
     "output_type": "stream",
     "text": [
      "<re.Match object; span=(0, 17), match='This is the world'>\n"
     ]
    }
   ],
   "source": [
    "text=\"This is the world\"\n",
    "x=re.search(\".*world$\",text)\n",
    "print(x)"
   ]
  },
  {
   "cell_type": "code",
   "execution_count": 30,
   "id": "d5edec9a",
   "metadata": {},
   "outputs": [
    {
     "name": "stdout",
     "output_type": "stream",
     "text": [
      "<re.Match object; span=(0, 23), match='This jsdfuefndj Science'>\n",
      "hi\n"
     ]
    }
   ],
   "source": [
    "text=\"This jsdfuefndj Science\"\n",
    "x=re.search(\"^This.*Science$\",text)\n",
    "print(x)\n",
    "if x:\n",
    "    print(\"hi\")\n",
    "else:\n",
    "    print(\"bye\")"
   ]
  },
  {
   "cell_type": "code",
   "execution_count": 31,
   "id": "8a7b68b0",
   "metadata": {},
   "outputs": [
    {
     "ename": "SyntaxError",
     "evalue": "invalid syntax (<ipython-input-31-3399f8c50309>, line 2)",
     "output_type": "error",
     "traceback": [
      "\u001b[0;36m  File \u001b[0;32m\"<ipython-input-31-3399f8c50309>\"\u001b[0;36m, line \u001b[0;32m2\u001b[0m\n\u001b[0;31m    other than zero anything----- True\u001b[0m\n\u001b[0m          ^\u001b[0m\n\u001b[0;31mSyntaxError\u001b[0m\u001b[0;31m:\u001b[0m invalid syntax\n"
     ]
    }
   ],
   "source": [
    "0----- False\n",
    "other than zero anything----- True"
   ]
  },
  {
   "cell_type": "code",
   "execution_count": 61,
   "id": "61ff39bb",
   "metadata": {},
   "outputs": [
    {
     "name": "stdout",
     "output_type": "stream",
     "text": [
      "<re.Match object; span=(0, 1), match='m'>\n",
      "<re.Match object; span=(0, 1), match='m'>\n",
      "<re.Match object; span=(0, 1), match='s'>\n"
     ]
    }
   ],
   "source": [
    "regx=\"[a-z]?\"\n",
    "text=[\"A\",\"megha\",\"sakshi\"]\n",
    "for i in text:\n",
    "    print(re.search(regx,i))"
   ]
  },
  {
   "cell_type": "code",
   "execution_count": 97,
   "id": "635bad6d",
   "metadata": {},
   "outputs": [
    {
     "name": "stdout",
     "output_type": "stream",
     "text": [
      "<re.Match object; span=(0, 15), match='Hi how are you?'>\n"
     ]
    }
   ],
   "source": [
    "regx=\"^Hi.*you\\?$\"\n",
    "text=\"Hi how are you?\"\n",
    "print(re.search(regx,text))"
   ]
  },
  {
   "cell_type": "code",
   "execution_count": 78,
   "id": "73ccf04b",
   "metadata": {},
   "outputs": [
    {
     "name": "stdout",
     "output_type": "stream",
     "text": [
      "<re.Match object; span=(0, 11), match='how are you'>\n"
     ]
    }
   ],
   "source": [
    "regx=\".*you$\"\n",
    "text=\"how are you\"\n",
    "print(re.search(regx,text))"
   ]
  },
  {
   "cell_type": "code",
   "execution_count": null,
   "id": "e1de9812",
   "metadata": {},
   "outputs": [],
   "source": [
    "string===  start=>This     end ====>ok"
   ]
  },
  {
   "cell_type": "code",
   "execution_count": 80,
   "id": "60e5a0c2",
   "metadata": {},
   "outputs": [
    {
     "name": "stdout",
     "output_type": "stream",
     "text": [
      "<re.Match object; span=(0, 15), match='This, am not OK'>\n"
     ]
    }
   ],
   "source": [
    "regx=\"^This.*OK$\"   --------------> anchor\n",
    "text=\"This, am not OK\"\n",
    "print(re.search(regx,text))"
   ]
  },
  {
   "cell_type": "code",
   "execution_count": 89,
   "id": "8083ad1c",
   "metadata": {},
   "outputs": [
    {
     "name": "stdout",
     "output_type": "stream",
     "text": [
      "None\n",
      "None\n",
      "None\n",
      "None\n",
      "None\n",
      "None\n",
      "None\n",
      "None\n"
     ]
    }
   ],
   "source": [
    "list1=[\"com\",\"hello\",\"hey\",\"hii\",\"how\",\"are\",\"you\",\"here\"]\n",
    "regx=\"[a-z]{}\"\n",
    "for x in list1:\n",
    "    print(re.search(regx,x))"
   ]
  },
  {
   "cell_type": "code",
   "execution_count": 92,
   "id": "0cc390e5",
   "metadata": {},
   "outputs": [
    {
     "name": "stdout",
     "output_type": "stream",
     "text": [
      "[' ', ' ', 't', 'e', ' ', 'w', 'o', 'r', 'l', 'd']\n"
     ]
    }
   ],
   "source": [
    "regx=\"[^This]\" -----------> reversal\n",
    "text=\"This is the world\"\n",
    "print(re.findall(regx,text))"
   ]
  },
  {
   "cell_type": "code",
   "execution_count": 93,
   "id": "22425448",
   "metadata": {},
   "outputs": [
    {
     "name": "stdout",
     "output_type": "stream",
     "text": [
      "<re.Match object; span=(9, 10), match='h'>\n"
     ]
    }
   ],
   "source": [
    "regx=\"[^0-9]\"\n",
    "Text=\"345739853hrwenfsekdfjsdef\"\n",
    "print(re.search(regx,Text))"
   ]
  },
  {
   "cell_type": "code",
   "execution_count": 96,
   "id": "f4ca268b",
   "metadata": {},
   "outputs": [
    {
     "name": "stdout",
     "output_type": "stream",
     "text": [
      "<re.Match object; span=(0, 4), match='hey?'>\n"
     ]
    }
   ],
   "source": [
    "regx=\".*\\?\"\n",
    "print(re.search(regx,\"hey?\"))"
   ]
  },
  {
   "cell_type": "code",
   "execution_count": null,
   "id": "74e92b53",
   "metadata": {},
   "outputs": [],
   "source": [
    "Email address:\n",
    "    \n",
    "    username_-@domain name.target domain name\n",
    "    megha08_56@gmail.com"
   ]
  },
  {
   "cell_type": "code",
   "execution_count": 100,
   "id": "85ca608d",
   "metadata": {},
   "outputs": [
    {
     "name": "stdout",
     "output_type": "stream",
     "text": [
      "it's an email id\n",
      "it's an email id\n",
      "it's an email id\n",
      "wrong email id\n"
     ]
    }
   ],
   "source": [
    "regx=\"^[a-zA-Z0-9_-]+@[A-Za-z]+\\.[a-z]{1,3}$\"\n",
    "list1=[\"megha@rkcsm.com\",\"megha@fujitsu.com\",\"xyz08_78@gmail.in\",\"7889_m@gmail*com\"]\n",
    "for x in list1:\n",
    "    y=re.search(regx,x)\n",
    "    if y:\n",
    "        print(\"it's an email id\")\n",
    "    else:\n",
    "        print(\"wrong email id\")"
   ]
  },
  {
   "cell_type": "code",
   "execution_count": 104,
   "id": "2c275026",
   "metadata": {},
   "outputs": [
    {
     "name": "stdout",
     "output_type": "stream",
     "text": [
      "<re.Match object; span=(3, 4), match=' '>\n"
     ]
    }
   ],
   "source": [
    "x=\"[^abc.*ok$]\"\n",
    "text=\"abc hey\"\n",
    "print(re.search(x,text))"
   ]
  },
  {
   "cell_type": "code",
   "execution_count": null,
   "id": "5c45f51f",
   "metadata": {},
   "outputs": [],
   "source": []
  }
 ],
 "metadata": {
  "kernelspec": {
   "display_name": "Python 3",
   "language": "python",
   "name": "python3"
  },
  "language_info": {
   "codemirror_mode": {
    "name": "ipython",
    "version": 3
   },
   "file_extension": ".py",
   "mimetype": "text/x-python",
   "name": "python",
   "nbconvert_exporter": "python",
   "pygments_lexer": "ipython3",
   "version": "3.8.8"
  }
 },
 "nbformat": 4,
 "nbformat_minor": 5
}
