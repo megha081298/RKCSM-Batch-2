{
 "cells": [
  {
   "cell_type": "code",
   "execution_count": null,
   "id": "c617d893",
   "metadata": {},
   "outputs": [],
   "source": [
    "if \"bar\" in {\"foo\":1,\"bar\":2,\"baz\":3}:\n",
    "    print(1)\n",
    "    print(2)\n",
    "    if \"a\" in \"qux\":\n",
    "        print(3)\n",
    "print(4)"
   ]
  },
  {
   "cell_type": "code",
   "execution_count": null,
   "id": "b76831ba",
   "metadata": {},
   "outputs": [],
   "source": [
    "d={\"a\":0,\"b\":1,\"c\":0}\n",
    "if d[\"a\"]>0:\n",
    "    print(\"ok\")\n",
    "elif d[\"b\"]>0:\n",
    "    print(\"ok\")\n",
    "    "
   ]
  },
  {
   "cell_type": "code",
   "execution_count": null,
   "id": "442a8363",
   "metadata": {},
   "outputs": [],
   "source": [
    "if {}:\n",
    "    print(\"wow we are here\")\n",
    "else:\n",
    "    print(\"May be here\")\n",
    "    if{0}:\n",
    "        print(\"but we are happy\")\n",
    "    else:\n",
    "        print(\"more than happy\")"
   ]
  },
  {
   "cell_type": "markdown",
   "id": "ae807371",
   "metadata": {},
   "source": [
    "# Slicing"
   ]
  },
  {
   "cell_type": "markdown",
   "id": "49bcea7f",
   "metadata": {},
   "source": [
    "Slicing is cutting down the particular elements or sub elements from the defined part.\n",
    "Syntax of slicing:\n",
    "    variable_name[start_index:end_index:stride]\n",
    "    \n",
    "Strides are nothing but helps in jumping or skipping the elements between two consecutive elements.\n",
    "Continous slicing which means slicing with out strides.\n",
    "Dis-continous slicing which means slicing with strides."
   ]
  },
  {
   "cell_type": "code",
   "execution_count": null,
   "id": "93ac416c",
   "metadata": {},
   "outputs": [],
   "source": [
    "fruits=[\"kiwi\",\"guava\",\"mango\",\"apple\",\"pear\",\"pineapple\"]  # : n-1 for end_index."
   ]
  },
  {
   "cell_type": "code",
   "execution_count": null,
   "id": "8455a0d0",
   "metadata": {},
   "outputs": [],
   "source": [
    "fruits[0:3]"
   ]
  },
  {
   "cell_type": "code",
   "execution_count": null,
   "id": "efb5ba78",
   "metadata": {},
   "outputs": [],
   "source": [
    "fruits[0:4]"
   ]
  },
  {
   "cell_type": "code",
   "execution_count": null,
   "id": "80966e29",
   "metadata": {},
   "outputs": [],
   "source": [
    "fruits[1:5]"
   ]
  },
  {
   "cell_type": "code",
   "execution_count": null,
   "id": "eab8968b",
   "metadata": {},
   "outputs": [],
   "source": [
    "fruits[2:5]"
   ]
  },
  {
   "cell_type": "code",
   "execution_count": null,
   "id": "9a27bd9f",
   "metadata": {},
   "outputs": [],
   "source": [
    "fruits.reverse()"
   ]
  },
  {
   "cell_type": "code",
   "execution_count": null,
   "id": "488b45ec",
   "metadata": {},
   "outputs": [],
   "source": [
    "fruits"
   ]
  },
  {
   "cell_type": "code",
   "execution_count": null,
   "id": "1a4a20d3",
   "metadata": {},
   "outputs": [],
   "source": [
    "fruits[0:2]"
   ]
  },
  {
   "cell_type": "code",
   "execution_count": null,
   "id": "2658d268",
   "metadata": {},
   "outputs": [],
   "source": [
    "fruits[0:3:2]"
   ]
  },
  {
   "cell_type": "code",
   "execution_count": null,
   "id": "b80e441b",
   "metadata": {},
   "outputs": [],
   "source": [
    "#i want to print pineapple and mango\n",
    "fruits[0:4:3]"
   ]
  },
  {
   "cell_type": "code",
   "execution_count": null,
   "id": "2d52b560",
   "metadata": {},
   "outputs": [],
   "source": [
    "#i want to print pine apple and kiwi\n",
    "fruits[0:6:5]"
   ]
  },
  {
   "cell_type": "code",
   "execution_count": null,
   "id": "b733e424",
   "metadata": {},
   "outputs": [],
   "source": [
    "fruits[0::5]"
   ]
  },
  {
   "cell_type": "code",
   "execution_count": null,
   "id": "a0a76361",
   "metadata": {},
   "outputs": [],
   "source": [
    "fruits[:]"
   ]
  },
  {
   "cell_type": "code",
   "execution_count": null,
   "id": "88f0799b",
   "metadata": {},
   "outputs": [],
   "source": [
    "fruits1=[\"kiwi\",\"guava\",\"mango\",\"apple\",\"pear\",\"pineapple\"]\n",
    "x=fruits1[0:4]\n",
    "print(x)\n",
    "print(x[-2])"
   ]
  },
  {
   "cell_type": "code",
   "execution_count": null,
   "id": "6f18e381",
   "metadata": {},
   "outputs": [],
   "source": [
    "fruits1[-1:-3:-1]"
   ]
  },
  {
   "cell_type": "code",
   "execution_count": null,
   "id": "3a238cf2",
   "metadata": {},
   "outputs": [],
   "source": [
    "fruits1[-3:-1]"
   ]
  },
  {
   "cell_type": "code",
   "execution_count": null,
   "id": "e0826527",
   "metadata": {},
   "outputs": [],
   "source": [
    "#from pear to guava in backward slicing.\n",
    "fruits1[-2:-6:-1]"
   ]
  },
  {
   "cell_type": "code",
   "execution_count": null,
   "id": "f90b05ca",
   "metadata": {},
   "outputs": [],
   "source": [
    "fruits1[-1:-7:-2]"
   ]
  },
  {
   "cell_type": "code",
   "execution_count": null,
   "id": "7d648fb6",
   "metadata": {},
   "outputs": [],
   "source": [
    "#pear and mango in backward slicing:\n",
    "fruits1[-2:-5:-2]"
   ]
  },
  {
   "cell_type": "code",
   "execution_count": null,
   "id": "aa15d081",
   "metadata": {},
   "outputs": [],
   "source": [
    "fruits1=[\"kiwi\",\"guava\",\"mango\",\"pear\",\"pear\",\"pineapple\"]"
   ]
  },
  {
   "cell_type": "code",
   "execution_count": null,
   "id": "69fc2d9f",
   "metadata": {},
   "outputs": [],
   "source": [
    "fruits1.index(\"pineapple\")"
   ]
  },
  {
   "cell_type": "code",
   "execution_count": null,
   "id": "e3933b36",
   "metadata": {},
   "outputs": [],
   "source": [
    "fruits1.append(\"megha\")  # for one element "
   ]
  },
  {
   "cell_type": "code",
   "execution_count": null,
   "id": "80658be0",
   "metadata": {},
   "outputs": [],
   "source": [
    "fruits1"
   ]
  },
  {
   "cell_type": "code",
   "execution_count": null,
   "id": "57420668",
   "metadata": {},
   "outputs": [],
   "source": [
    "fruits1.extend([\"dry  fruits\",\"apricots\"])  # for multiple elements"
   ]
  },
  {
   "cell_type": "code",
   "execution_count": null,
   "id": "bd1a63b0",
   "metadata": {},
   "outputs": [],
   "source": [
    "fruits1"
   ]
  },
  {
   "cell_type": "code",
   "execution_count": null,
   "id": "95f548f2",
   "metadata": {},
   "outputs": [],
   "source": [
    "fruits1.count(\"pear\")"
   ]
  },
  {
   "cell_type": "code",
   "execution_count": null,
   "id": "c710d0d4",
   "metadata": {},
   "outputs": [],
   "source": [
    "count=0\n",
    "for numbers in fruits1:\n",
    "    count=count+1\n",
    "print(count)"
   ]
  },
  {
   "cell_type": "code",
   "execution_count": null,
   "id": "8775bcb4",
   "metadata": {},
   "outputs": [],
   "source": [
    "bus=[\"covid +\",\"covid -\",\"covid +\",\"covid +\"]\n",
    "count=0\n",
    "if bus[0]==\"covid +\":\n",
    "    count=count+1\n",
    "if bus[1]==\"covid +\":\n",
    "    count=count+1\n",
    "if bus[2]==\"covid +\":\n",
    "    count=count+1\n",
    "if bus[3]==\"covid +\":\n",
    "    count=count+1\n",
    "print(count)"
   ]
  },
  {
   "cell_type": "code",
   "execution_count": null,
   "id": "5837b72c",
   "metadata": {},
   "outputs": [],
   "source": [
    "count=0\n",
    "for passengers in bus:\n",
    "    if passengers ==\"covid +\":\n",
    "        count=count+1\n",
    "print(count)"
   ]
  },
  {
   "cell_type": "code",
   "execution_count": null,
   "id": "70a17d46",
   "metadata": {},
   "outputs": [],
   "source": [
    "#make a list from 1 to 5 and print every elements of it.\n",
    "a=[1,2,3,4,5]\n",
    "for b in a:\n",
    "    print(b)"
   ]
  },
  {
   "cell_type": "code",
   "execution_count": null,
   "id": "26efe98d",
   "metadata": {},
   "outputs": [],
   "source": [
    "a=[1,2,3,4,5,6]   #iteration and traversing."
   ]
  },
  {
   "cell_type": "code",
   "execution_count": null,
   "id": "f7a312d9",
   "metadata": {},
   "outputs": [],
   "source": [
    "What kind of data types are iterables.\n",
    "\n",
    "list\n",
    "tuple\n",
    "dict\n",
    "set"
   ]
  },
  {
   "cell_type": "markdown",
   "id": "44b69d56",
   "metadata": {},
   "source": [
    "#make a list from number 1 to 10 and loop over then print yes if it if even number and no if it odd.\n",
    "\n",
    "2,4,6,8,10,12..... even numbers\n",
    "1,3,5,7,9,11..... odd numbers\n",
    "Syntax:\n",
    "range(start,stop,step)"
   ]
  },
  {
   "cell_type": "code",
   "execution_count": null,
   "id": "39db8ce8",
   "metadata": {},
   "outputs": [],
   "source": [
    "#number_list=[1,2,3,4,5,6,7,8,9,10,11,12]\n",
    "for finding in range(1,11):\n",
    "    if finding%2==0:\n",
    "        print(\"even\")\n",
    "    else:\n",
    "        print(\"odd\")"
   ]
  },
  {
   "cell_type": "code",
   "execution_count": null,
   "id": "11a0beef",
   "metadata": {},
   "outputs": [],
   "source": [
    "for findings in range(8):\n",
    "    print(findings)"
   ]
  },
  {
   "cell_type": "code",
   "execution_count": null,
   "id": "0e5833e1",
   "metadata": {},
   "outputs": [],
   "source": [
    "for finding in range(\"a\",\"z\"):   #range only works for integer\n",
    "    print(finding)"
   ]
  },
  {
   "cell_type": "code",
   "execution_count": null,
   "id": "919f87a3",
   "metadata": {},
   "outputs": [],
   "source": [
    "number_list=[1,2,3,4,5,6,7,8,9,10,11,12]   #length or len() will help us to find the number of elements.\n",
    "len(number_list)"
   ]
  },
  {
   "cell_type": "code",
   "execution_count": null,
   "id": "0e5f3d84",
   "metadata": {},
   "outputs": [],
   "source": [
    "string1=\"The quick fox jumps over the lazy dog\"\n",
    "len(string1)"
   ]
  },
  {
   "cell_type": "code",
   "execution_count": null,
   "id": "ff0e59ee",
   "metadata": {},
   "outputs": [],
   "source": [
    "dict1={\"python\":3,\"java\":4}\n",
    "len(dict1)"
   ]
  },
  {
   "cell_type": "code",
   "execution_count": null,
   "id": "e1ddc9b9",
   "metadata": {},
   "outputs": [],
   "source": [
    "set1={1,2,3,4,4,5,5}\n",
    "len(set1)"
   ]
  },
  {
   "cell_type": "code",
   "execution_count": null,
   "id": "d2d45f6d",
   "metadata": {},
   "outputs": [],
   "source": [
    "help(range)"
   ]
  },
  {
   "cell_type": "code",
   "execution_count": null,
   "id": "1da25d16",
   "metadata": {},
   "outputs": [],
   "source": [
    "help(print)"
   ]
  },
  {
   "cell_type": "markdown",
   "id": "56fcb398",
   "metadata": {},
   "source": [
    "# print multiplication table of 5 with the help of range."
   ]
  },
  {
   "cell_type": "code",
   "execution_count": null,
   "id": "ff1adb24",
   "metadata": {},
   "outputs": [],
   "source": [
    "for multiplication in range(1,11):\n",
    "    print(multiplication*5)"
   ]
  },
  {
   "cell_type": "markdown",
   "id": "8604e72b",
   "metadata": {},
   "source": [
    "# Write a python program to find the prime numbers:"
   ]
  },
  {
   "cell_type": "code",
   "execution_count": null,
   "id": "1ef4ad35",
   "metadata": {},
   "outputs": [],
   "source": [
    "#2,3,5,7,11........ prime numbers are those which are divisible by themselves and 1.\n",
    "algorithm: we going to find non prime numbers.\n",
    "    "
   ]
  },
  {
   "cell_type": "code",
   "execution_count": 8,
   "id": "7ac47afa",
   "metadata": {},
   "outputs": [
    {
     "name": "stdout",
     "output_type": "stream",
     "text": [
      "Enter number:2\n",
      "this is prime\n"
     ]
    }
   ],
   "source": [
    "number=int(input(\"Enter number:\"))   #for_else\n",
    "if number>1:      \n",
    "    for i in range(2,number):   #range(2,6):2,3,4,5\n",
    "        if(number%i==0):        #6%2==0?:Yes\n",
    "            print(\"this is not prime\")\n",
    "            break\n",
    "    else:\n",
    "        print(\"this is prime\")\n",
    "    \n",
    "else:\n",
    "    print(\"it is not prime\")"
   ]
  },
  {
   "cell_type": "code",
   "execution_count": 2,
   "id": "e1332ed1",
   "metadata": {},
   "outputs": [
    {
     "name": "stdout",
     "output_type": "stream",
     "text": [
      "2\n"
     ]
    }
   ],
   "source": [
    "for i in range(2,3):\n",
    "    print(i)"
   ]
  },
  {
   "cell_type": "markdown",
   "id": "6e5c46e4",
   "metadata": {},
   "source": [
    "1\n",
    "12\n",
    "123\n",
    "1234\n",
    "12345"
   ]
  },
  {
   "cell_type": "code",
   "execution_count": 16,
   "id": "35837885",
   "metadata": {},
   "outputs": [
    {
     "name": "stdout",
     "output_type": "stream",
     "text": [
      "1 \n",
      "1 2 \n",
      "1 2 3 \n",
      "1 2 3 4 \n",
      "1 2 3 4 5 \n"
     ]
    }
   ],
   "source": [
    "for i in range(1,6):  #3 as an element\n",
    "    for j in range(1,i+1):  #ek hi bar print karana hai\n",
    "        print(j,end=\" \")\n",
    "    print()"
   ]
  },
  {
   "cell_type": "code",
   "execution_count": 14,
   "id": "def49c77",
   "metadata": {},
   "outputs": [
    {
     "name": "stdout",
     "output_type": "stream",
     "text": [
      "1\n",
      "2\n",
      "3\n",
      "4\n"
     ]
    }
   ],
   "source": [
    "for i in range(1,2+3):\n",
    "    print(i)"
   ]
  },
  {
   "cell_type": "code",
   "execution_count": null,
   "id": "387294f3",
   "metadata": {},
   "outputs": [],
   "source": [
    "#leetcode\n",
    "#hackerrank"
   ]
  }
 ],
 "metadata": {
  "kernelspec": {
   "display_name": "Python 3",
   "language": "python",
   "name": "python3"
  },
  "language_info": {
   "codemirror_mode": {
    "name": "ipython",
    "version": 3
   },
   "file_extension": ".py",
   "mimetype": "text/x-python",
   "name": "python",
   "nbconvert_exporter": "python",
   "pygments_lexer": "ipython3",
   "version": "3.8.8"
  }
 },
 "nbformat": 4,
 "nbformat_minor": 5
}
