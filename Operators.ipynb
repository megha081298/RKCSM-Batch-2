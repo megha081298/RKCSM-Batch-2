{
 "cells": [
  {
   "cell_type": "markdown",
   "id": "5fbf76b9",
   "metadata": {},
   "source": [
    "# Operators:"
   ]
  },
  {
   "cell_type": "markdown",
   "id": "d39d7cad",
   "metadata": {},
   "source": [
    "Operators are use to perform certain operation in python:\n",
    "Python language supports following Operators:\n",
    "1. Arithematic Operators.\n",
    "2. Comaprison Operators.\n",
    "3. Assignment Operators\n",
    "4. Bitwise Operators.\n",
    "5. Membership Operators.\n",
    "6. Identity Operators.\n",
    "7. Logical Operators.  same as bit wise (and, or and not)"
   ]
  },
  {
   "cell_type": "markdown",
   "id": "318c3d57",
   "metadata": {},
   "source": [
    "Arithematic Operators: Which is use to perform mathematical operations.\n",
    "\n",
    "---> Addition \"+\"\n",
    "---> Substraction \"-\"\n",
    "--->Modulus       \"%\"    (remainder)\n",
    "---> Division     \"/\"   \n",
    "---> Floor division  \"//\"\n",
    "---> multiplication  \"*\""
   ]
  },
  {
   "cell_type": "code",
   "execution_count": 1,
   "id": "ed51990c",
   "metadata": {},
   "outputs": [],
   "source": [
    "a=2   #a,b,c are operands here.\n",
    "b=11  #= and % are operators here.\n",
    "c=b%a"
   ]
  },
  {
   "cell_type": "code",
   "execution_count": 2,
   "id": "54d96815",
   "metadata": {},
   "outputs": [
    {
     "name": "stdout",
     "output_type": "stream",
     "text": [
      "1\n"
     ]
    }
   ],
   "source": [
    "print(c)"
   ]
  },
  {
   "cell_type": "code",
   "execution_count": 3,
   "id": "8b611f6f",
   "metadata": {},
   "outputs": [
    {
     "name": "stdout",
     "output_type": "stream",
     "text": [
      "5.9\n"
     ]
    }
   ],
   "source": [
    "a=2\n",
    "b=11.8\n",
    "c=b/a\n",
    "print(c)"
   ]
  },
  {
   "cell_type": "code",
   "execution_count": 4,
   "id": "34d3f152",
   "metadata": {},
   "outputs": [
    {
     "name": "stdout",
     "output_type": "stream",
     "text": [
      "5.0\n"
     ]
    }
   ],
   "source": [
    "a=2\n",
    "b=11.8\n",
    "c=b//a\n",
    "print(c)"
   ]
  },
  {
   "cell_type": "markdown",
   "id": "77701882",
   "metadata": {},
   "source": [
    "Comparison Operators:\n",
    "\n",
    "It will simply perform comparison between two elements.\n",
    "\n",
    "1. ==  (euals euals to)  a==b\n",
    "2. !=   (not equals)     a!=b\n",
    "3. >    (greater)        a>b   1,2,3,4\n",
    "4. <    (less)           a<b\n",
    "5. >=   (greater than equal to)   a>=b  10>=10\n",
    "6. <=    (less than equals to)  a<=b   5<=5    1,2,3,4,5\n",
    "    \n",
    "                             \n",
    "                         "
   ]
  },
  {
   "cell_type": "code",
   "execution_count": 5,
   "id": "70458d21",
   "metadata": {},
   "outputs": [
    {
     "ename": "SyntaxError",
     "evalue": "invalid syntax (<ipython-input-5-8fa46fcf1f95>, line 1)",
     "output_type": "error",
     "traceback": [
      "\u001b[0;36m  File \u001b[0;32m\"<ipython-input-5-8fa46fcf1f95>\"\u001b[0;36m, line \u001b[0;32m1\u001b[0m\n\u001b[0;31m    Assignment Operators: Assigning the values.\u001b[0m\n\u001b[0m               ^\u001b[0m\n\u001b[0;31mSyntaxError\u001b[0m\u001b[0;31m:\u001b[0m invalid syntax\n"
     ]
    }
   ],
   "source": [
    "Assignment Operators: Assigning the values.\n",
    "    \n",
    "1. =   Assigns the values from right side operand to left side operand.\n",
    "2.+=  a+=b----->  a=a+b    #this is assignment operator\n",
    "3. -=  a-=b-----> a=a-b\n",
    "4.*=  a*=b-----> a=a*b\n",
    "5. /=  a/=b     a=a/b\n",
    "6. %=  \n",
    "7. //=\n",
    "8. **="
   ]
  },
  {
   "cell_type": "code",
   "execution_count": null,
   "id": "77afb710",
   "metadata": {},
   "outputs": [],
   "source": [
    "#sifwoiwnfjnf\n"
   ]
  },
  {
   "cell_type": "code",
   "execution_count": null,
   "id": "aed87461",
   "metadata": {},
   "outputs": [],
   "source": [
    "'''megha\n",
    "he \n",
    "ydfjsheif'''     #docstring"
   ]
  },
  {
   "cell_type": "code",
   "execution_count": null,
   "id": "bf8abf9b",
   "metadata": {},
   "outputs": [],
   "source": [
    "#  nsjfjs\n",
    "#  ghirt\n",
    "# dfghuier"
   ]
  },
  {
   "cell_type": "markdown",
   "id": "010483fe",
   "metadata": {},
   "source": [
    "# Indentation:"
   ]
  },
  {
   "cell_type": "code",
   "execution_count": null,
   "id": "2708ea69",
   "metadata": {},
   "outputs": [],
   "source": [
    "print(\"megha\")"
   ]
  },
  {
   "cell_type": "markdown",
   "id": "5e276852",
   "metadata": {},
   "source": [
    "Bitwise Operators: it will perform operations bit by bit.\n",
    "1. and\n",
    "2. or\n",
    "3. xor\n",
    "4. ~  (compliment)"
   ]
  },
  {
   "cell_type": "markdown",
   "id": "3f02c5d4",
   "metadata": {},
   "source": [
    "Memebership Operators:\n",
    "it will help us to find membership in elements:\n",
    "1. in\n",
    "2. not in"
   ]
  },
  {
   "cell_type": "markdown",
   "id": "8afd0d54",
   "metadata": {},
   "source": [
    "Identity Operators:\n",
    "\n",
    "1.is: Evaluated to True if the variables on the either side of the Operator point to the same object and false\n",
    "otherwise.\n",
    "\n",
    "2.is not: Evaluates to false if the variables on the either side of the operator points to the same object\n",
    "and true otherwise."
   ]
  },
  {
   "cell_type": "code",
   "execution_count": null,
   "id": "c271c2f6",
   "metadata": {},
   "outputs": [],
   "source": [
    "x=[\"megha\",\"mohit\",\"someone\"]\n",
    "y=[\"megha\",\"mohit\",\"someone\"]\n",
    "print(x is not y)"
   ]
  },
  {
   "cell_type": "code",
   "execution_count": null,
   "id": "744d6257",
   "metadata": {},
   "outputs": [],
   "source": [
    "x=[\"megha\",\"mohit\",\"someone\"]\n",
    "y=x\n",
    "print(x is y)"
   ]
  },
  {
   "cell_type": "markdown",
   "id": "6347e82e",
   "metadata": {},
   "source": [
    "# Conditional Statements:"
   ]
  },
  {
   "cell_type": "markdown",
   "id": "e5fa36c0",
   "metadata": {},
   "source": [
    "if,else and elif these are conditional statemnets which helps us to check the desired conditions.\n",
    "\n",
    "Syntax:\n",
    "    \n",
    "if give_condition:\n",
    "    lines_of_code....\n",
    "    .....\n",
    "    ........\n",
    "    ...\n",
    "else:\n",
    "    lines of code.....\n",
    "    \n",
    "    \n",
    "    \n",
    " SYntax:\n",
    " \n",
    "if condition:\n",
    "    print(\"\")\n",
    "elif condition:\n",
    "    print(\"\")\n",
    "    \n",
    "else:\n",
    "    print(\"\")"
   ]
  },
  {
   "cell_type": "code",
   "execution_count": 6,
   "id": "44ac9906",
   "metadata": {},
   "outputs": [
    {
     "name": "stdout",
     "output_type": "stream",
     "text": [
      "my condition is False\n"
     ]
    }
   ],
   "source": [
    "x=True\n",
    "y=False\n",
    "if y:\n",
    "    print(\"my condition is true\")\n",
    "else:\n",
    "    print(\"my condition is False\")"
   ]
  },
  {
   "cell_type": "code",
   "execution_count": 7,
   "id": "48732cde",
   "metadata": {},
   "outputs": [
    {
     "name": "stdout",
     "output_type": "stream",
     "text": [
      "my condition is true\n"
     ]
    }
   ],
   "source": [
    "x=10\n",
    "y=20\n",
    "if y==20:\n",
    "    print(\"my condition is true\")\n",
    "else:\n",
    "    print(\"my condition is False\")"
   ]
  },
  {
   "cell_type": "code",
   "execution_count": 8,
   "id": "1d21105d",
   "metadata": {},
   "outputs": [
    {
     "ename": "SyntaxError",
     "evalue": "invalid syntax (<ipython-input-8-9322b9527c9a>, line 1)",
     "output_type": "error",
     "traceback": [
      "\u001b[0;36m  File \u001b[0;32m\"<ipython-input-8-9322b9527c9a>\"\u001b[0;36m, line \u001b[0;32m1\u001b[0m\n\u001b[0;31m    Nested If Else statement:\u001b[0m\n\u001b[0m           ^\u001b[0m\n\u001b[0;31mSyntaxError\u001b[0m\u001b[0;31m:\u001b[0m invalid syntax\n"
     ]
    }
   ],
   "source": [
    "Nested If Else statement:\n",
    "    Which means we have to check condition with in condition."
   ]
  },
  {
   "cell_type": "code",
   "execution_count": null,
   "id": "b961fcfc",
   "metadata": {},
   "outputs": [],
   "source": [
    "Parents_perm=True\n",
    "Budget=False\n",
    "\n",
    "if Parents_perm:\n",
    "    print(\"Stage one clear\")\n",
    "    if Budget:\n",
    "        print(\"Yes finally I am going on a trip\")\n",
    "    else:\n",
    "        print(\"ohh some difficulties.\")\n",
    "else:\n",
    "    print(\"Sorry I can't go.\")\n"
   ]
  },
  {
   "cell_type": "code",
   "execution_count": null,
   "id": "e1983bc4",
   "metadata": {},
   "outputs": [],
   "source": [
    "Shimla=False\n",
    "Dubai= True\n",
    "Thailand=False\n",
    "\n",
    "if Shimla:\n",
    "    print(\"Yes we will go\")\n",
    "elif Dubai:\n",
    "    print(\"Thik hai yahi chalo\")\n",
    "elif Thailand:\n",
    "    print(\"Ye bhi chalega\")\n",
    "else:\n",
    "    print(\"Kahi to chalo\")"
   ]
  },
  {
   "cell_type": "markdown",
   "id": "3f9ebef5",
   "metadata": {},
   "source": [
    "# numbers=100\n",
    "you have to check if 100 is divisible by 2, if it is then print yes else no."
   ]
  },
  {
   "cell_type": "code",
   "execution_count": null,
   "id": "26f35fa5",
   "metadata": {},
   "outputs": [],
   "source": [
    "numbers=100\n",
    "if numbers%2==0:\n",
    "    print(\"yes\")\n",
    "else:\n",
    "    print(\"no\")"
   ]
  },
  {
   "cell_type": "markdown",
   "id": "2218272a",
   "metadata": {},
   "source": [
    "# Input from user"
   ]
  },
  {
   "cell_type": "code",
   "execution_count": 14,
   "id": "ee0e0a25",
   "metadata": {},
   "outputs": [
    {
     "name": "stdout",
     "output_type": "stream",
     "text": [
      "20\n",
      "yes\n"
     ]
    }
   ],
   "source": [
    "numbers=int(input())\n",
    "if numbers%2==0:\n",
    "    print(\"yes\")\n",
    "else:\n",
    "    print(\"no\")"
   ]
  },
  {
   "cell_type": "markdown",
   "id": "73d65642",
   "metadata": {},
   "source": [
    "# Write a program to check if the person is eligible for voting or not."
   ]
  },
  {
   "cell_type": "code",
   "execution_count": 16,
   "id": "9992f3b7",
   "metadata": {},
   "outputs": [
    {
     "name": "stdout",
     "output_type": "stream",
     "text": [
      "4\n",
      "you're not eligible\n"
     ]
    }
   ],
   "source": [
    "#discussion at 12:20pm\n",
    "\n",
    "age=int(input())    #this is taking input from user.  \n",
    "if age >= 18:\n",
    "  print(\"You are eligible for voting\")\n",
    "else:\n",
    "  print(\"you're not eligible\")"
   ]
  },
  {
   "cell_type": "markdown",
   "id": "9a5c22d3",
   "metadata": {},
   "source": [
    "# Calculate Electricity bill:     125unit   100 unit  25*5    205 100  100*5 5*10\n",
    "\n",
    "   Units                Price\n",
    " First 100 unit          0            0-100\n",
    " Next 100 unit           Rs 5/unit    101-200\n",
    " After 200 units         Rs 10/unit    200-infitnity\n",
    " \n",
    " Take number of units from user and calculate the electricity bill."
   ]
  },
  {
   "cell_type": "code",
   "execution_count": 36,
   "id": "f1343223",
   "metadata": {},
   "outputs": [
    {
     "name": "stdout",
     "output_type": "stream",
     "text": [
      "Enter the units350\n",
      "price is 2000\n"
     ]
    }
   ],
   "source": [
    "amount=0   #global variable\n",
    "units=int(input(\"Enter the units\"))   \n",
    "if units<=100:\n",
    "    print(\"price is zero\", unit*0)  \n",
    "elif units>100 and units<=200:   \n",
    "    amount=(units-100)*5    \n",
    "    print(\"price is\",amount)\n",
    "elif units>200:                    \n",
    "    amount=0+500+(units-200)*10  \n",
    "    print(\"price is\",amount)\n",
    "else:\n",
    "    print(\"Invalid\")"
   ]
  },
  {
   "cell_type": "code",
   "execution_count": 34,
   "id": "709b9dcc",
   "metadata": {},
   "outputs": [
    {
     "name": "stdout",
     "output_type": "stream",
     "text": [
      "enter your number:107\n",
      "last digit of your number is: 7\n"
     ]
    }
   ],
   "source": [
    "#take input from use and display last digit of number. 505 o/p will bt 5 401 -->1\n",
    "num=int(input(\"enter your number:\"))\n",
    "print(\"last digit of your number is:\",num%10)"
   ]
  },
  {
   "cell_type": "code",
   "execution_count": null,
   "id": "d8d17e54",
   "metadata": {},
   "outputs": [],
   "source": [
    "if (a>5 and a<=10):   a=9\n",
    "    print(\"hello\")      \n",
    "else:\n",
    "    print(\"bye\")"
   ]
  },
  {
   "cell_type": "markdown",
   "id": "18f1087a",
   "metadata": {},
   "source": [
    "# Loops:\n",
    "For loop:\n",
    "Syntax:\n",
    "  for variable_name in choices:\n",
    "     print(variable_name)"
   ]
  },
  {
   "cell_type": "code",
   "execution_count": 42,
   "id": "fd572993",
   "metadata": {},
   "outputs": [
    {
     "name": "stdout",
     "output_type": "stream",
     "text": [
      "cakes Shristi\n",
      "cookies Shristi\n",
      "candies Shristi\n",
      "samosa Shristi\n"
     ]
    }
   ],
   "source": [
    "Bakery=[\"cakes\",\"cookies\",\"candies\",\"samosa\"]\n",
    "for megha in Bakery:\n",
    "    print(megha,\"Shristi\")"
   ]
  },
  {
   "cell_type": "code",
   "execution_count": null,
   "id": "008442fd",
   "metadata": {},
   "outputs": [],
   "source": []
  }
 ],
 "metadata": {
  "kernelspec": {
   "display_name": "Python 3",
   "language": "python",
   "name": "python3"
  },
  "language_info": {
   "codemirror_mode": {
    "name": "ipython",
    "version": 3
   },
   "file_extension": ".py",
   "mimetype": "text/x-python",
   "name": "python",
   "nbconvert_exporter": "python",
   "pygments_lexer": "ipython3",
   "version": "3.8.8"
  }
 },
 "nbformat": 4,
 "nbformat_minor": 5
}
