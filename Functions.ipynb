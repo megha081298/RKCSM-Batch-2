{
 "cells": [
  {
   "cell_type": "code",
   "execution_count": null,
   "id": "25abb175",
   "metadata": {},
   "outputs": [],
   "source": [
    "SYntax:\n",
    "    def name_of_our_function(argurment1,arguement2,....):\n",
    "        lines of code...\n",
    "        ......\n",
    "        "
   ]
  },
  {
   "cell_type": "code",
   "execution_count": null,
   "id": "6f10ca3f",
   "metadata": {},
   "outputs": [],
   "source": [
    "#reverse:\n",
    "\n",
    "def reverse(list1):\n",
    "    cjfhiwfioee\n",
    "    jbefiweh"
   ]
  },
  {
   "cell_type": "code",
   "execution_count": 1,
   "id": "a0e02c82",
   "metadata": {},
   "outputs": [],
   "source": [
    "list1=[1,2,3,4,5]\n",
    "list1.reverse()"
   ]
  },
  {
   "cell_type": "code",
   "execution_count": 2,
   "id": "a83fa935",
   "metadata": {},
   "outputs": [
    {
     "data": {
      "text/plain": [
       "[5, 4, 3, 2, 1]"
      ]
     },
     "execution_count": 2,
     "metadata": {},
     "output_type": "execute_result"
    }
   ],
   "source": [
    "list1"
   ]
  },
  {
   "cell_type": "code",
   "execution_count": 1,
   "id": "39dd11d1",
   "metadata": {},
   "outputs": [],
   "source": [
    "def sum_sub_multi(input1,input2):\n",
    "    sum_of_2=input1+input2\n",
    "    sub_of_2=input1-input2\n",
    "    return sum_of_2*sub_of_2  #3536"
   ]
  },
  {
   "cell_type": "markdown",
   "id": "29fcf640",
   "metadata": {},
   "source": [
    "Syntax:\n",
    "    name_of_function(arg1,arg2)"
   ]
  },
  {
   "cell_type": "code",
   "execution_count": 2,
   "id": "8fb3f9c4",
   "metadata": {},
   "outputs": [
    {
     "name": "stdout",
     "output_type": "stream",
     "text": [
      "value here is 3536\n"
     ]
    }
   ],
   "source": [
    "returned_of=sum_sub_multi(69,35)\n",
    "print(\"value here is\",returned_of)"
   ]
  },
  {
   "cell_type": "code",
   "execution_count": null,
   "id": "c8787bd1",
   "metadata": {},
   "outputs": [],
   "source": [
    "def sum_sub_multi(input1,input2):\n",
    "    sum_of_2=input1+input2\n",
    "    sub_of_2=input1-input2\n",
    "     print(sum_of_2*sub_of_2)"
   ]
  },
  {
   "cell_type": "code",
   "execution_count": null,
   "id": "c2728899",
   "metadata": {},
   "outputs": [],
   "source": [
    "write a function which return first element of the list:"
   ]
  },
  {
   "cell_type": "code",
   "execution_count": 11,
   "id": "ce90d073",
   "metadata": {},
   "outputs": [
    {
     "data": {
      "text/plain": [
       "1"
      ]
     },
     "execution_count": 11,
     "metadata": {},
     "output_type": "execute_result"
    }
   ],
   "source": [
    "list1=[1,2,3,4]\n",
    "list1[0]"
   ]
  },
  {
   "cell_type": "code",
   "execution_count": 12,
   "id": "086676b7",
   "metadata": {},
   "outputs": [],
   "source": [
    "def list2(given_list):\n",
    "    print(given_list[0])\n",
    "    "
   ]
  },
  {
   "cell_type": "code",
   "execution_count": 15,
   "id": "fb7ed65e",
   "metadata": {},
   "outputs": [
    {
     "name": "stdout",
     "output_type": "stream",
     "text": [
      "grapes\n",
      "g\n"
     ]
    }
   ],
   "source": [
    "x=int(input())\n",
    "list2(x)"
   ]
  },
  {
   "cell_type": "code",
   "execution_count": 16,
   "id": "c2dcb08b",
   "metadata": {},
   "outputs": [
    {
     "name": "stdout",
     "output_type": "stream",
     "text": [
      "0\n"
     ]
    }
   ],
   "source": [
    "List=[0,1,0,2]\n",
    "def first(List):\n",
    "    return List[0]\n",
    "A=first(List)\n",
    "print(A)"
   ]
  },
  {
   "cell_type": "code",
   "execution_count": null,
   "id": "6e607136",
   "metadata": {},
   "outputs": [],
   "source": [
    "write a function which returns list of all the even elements from the given list."
   ]
  },
  {
   "cell_type": "code",
   "execution_count": 18,
   "id": "88b5bf14",
   "metadata": {},
   "outputs": [],
   "source": [
    "list1=[1,2,3,4]\n",
    "list1.append(5)"
   ]
  },
  {
   "cell_type": "code",
   "execution_count": 19,
   "id": "c5b476cd",
   "metadata": {},
   "outputs": [],
   "source": [
    "def filter_even(given_list):\n",
    "    even_list=[]\n",
    "    for no in given_list:\n",
    "        if no%2==0:\n",
    "            even_list.append(no)\n",
    "            \n",
    "    return even_list"
   ]
  },
  {
   "cell_type": "code",
   "execution_count": 21,
   "id": "bd74d2e9",
   "metadata": {},
   "outputs": [
    {
     "name": "stdout",
     "output_type": "stream",
     "text": [
      "[4, 6, 8, 10, 200]\n"
     ]
    }
   ],
   "source": [
    "val=filter_even([4,5,6,7,8,10,200])\n",
    "print(val)"
   ]
  },
  {
   "cell_type": "code",
   "execution_count": 22,
   "id": "0a998f12",
   "metadata": {},
   "outputs": [
    {
     "name": "stdout",
     "output_type": "stream",
     "text": [
      "[2, 4, 6, 8]\n"
     ]
    }
   ],
   "source": [
    "a = [1, 2, 3, 4, 5, 6, 8]\n",
    "def even(a):\n",
    "    c = []\n",
    "    for i in a:\n",
    "        if i % 2 == 0:\n",
    "            c.append(i)\n",
    "    return c\n",
    "print(even(a))"
   ]
  },
  {
   "cell_type": "code",
   "execution_count": null,
   "id": "6bc378c0",
   "metadata": {},
   "outputs": [],
   "source": [
    "write a function to add two lists if they are of equal length and print it if not of equal length print none."
   ]
  },
  {
   "cell_type": "code",
   "execution_count": null,
   "id": "49019637",
   "metadata": {},
   "outputs": [],
   "source": [
    "l1=[1,2,3]\n",
    "l2=[3,4,5]\n",
    "\n",
    "o/p=[4,6,8]\n",
    "\n",
    "l1=[1]\n",
    "l2=[1,2]\n",
    "o/p= none"
   ]
  },
  {
   "cell_type": "code",
   "execution_count": 26,
   "id": "7919f8f6",
   "metadata": {},
   "outputs": [
    {
     "name": "stdout",
     "output_type": "stream",
     "text": [
      "[2, 4, 6, 8, 10]\n"
     ]
    }
   ],
   "source": [
    "List=[2,4,6,8,10,11]\n",
    "def even(List):\n",
    "    c=[]\n",
    "    for items in List:\n",
    "       if (items%2==0):\n",
    "            c.append(items)\n",
    "    return c\n",
    "A=even(List)\n",
    "print(A)"
   ]
  },
  {
   "cell_type": "code",
   "execution_count": 17,
   "id": "8a971e87",
   "metadata": {},
   "outputs": [
    {
     "name": "stdout",
     "output_type": "stream",
     "text": [
      "This is to add 2 list of same length together \n",
      "\n",
      "None\n",
      "This is to join 2 list of same length together \n",
      "\n",
      "[1, 2, 3, 4, 7, 8, 9, 5]\n"
     ]
    }
   ],
   "source": [
    "print(\"This is to add 2 list of same length together \\n\") \n",
    " \n",
    "a = [1, 2, 3] \n",
    "b = [7, 8, 9, 5] \n",
    " \n",
    " \n",
    "def add_list(list1, list2): \n",
    " \n",
    "    c = [] \n",
    "    len1 = len(list1) \n",
    "    len2 = len(list2) \n",
    " \n",
    "    if len1 == len2: \n",
    "        for i in range(len1): \n",
    "            c.append(list1[i] + list2[i]) \n",
    "        return c \n",
    "    else: \n",
    "        return \n",
    " \n",
    " \n",
    "print(add_list(a, b))\n",
    "print(\"This is to join 2 list of same length together \\n\") \n",
    " \n",
    "a = [1, 2, 3, 4] \n",
    "b = [7, 8, 9, 5] \n",
    " \n",
    " \n",
    "def join_list(a, b): \n",
    "    c = [] \n",
    "    lena = len(a) \n",
    "    lenb = len(b) \n",
    " \n",
    "    if lena == lenb: \n",
    "        return a + b \n",
    "    else: \n",
    "        return  \n",
    " \n",
    " \n",
    "print(join_list(a, b))"
   ]
  },
  {
   "cell_type": "code",
   "execution_count": 4,
   "id": "e9d16e57",
   "metadata": {},
   "outputs": [
    {
     "ename": "TypeError",
     "evalue": "can only concatenate list (not \"int\") to list",
     "output_type": "error",
     "traceback": [
      "\u001b[0;31m---------------------------------------------------------------------------\u001b[0m",
      "\u001b[0;31mTypeError\u001b[0m                                 Traceback (most recent call last)",
      "\u001b[0;32m<ipython-input-4-5d0d8163d8ec>\u001b[0m in \u001b[0;36m<module>\u001b[0;34m\u001b[0m\n\u001b[1;32m      3\u001b[0m \u001b[0;34m\u001b[0m\u001b[0m\n\u001b[1;32m      4\u001b[0m \u001b[0;32mif\u001b[0m \u001b[0mlen\u001b[0m\u001b[0;34m(\u001b[0m\u001b[0ml1\u001b[0m\u001b[0;34m)\u001b[0m\u001b[0;34m==\u001b[0m\u001b[0mlen\u001b[0m\u001b[0;34m(\u001b[0m\u001b[0ml2\u001b[0m\u001b[0;34m)\u001b[0m\u001b[0;34m:\u001b[0m\u001b[0;34m\u001b[0m\u001b[0;34m\u001b[0m\u001b[0m\n\u001b[0;32m----> 5\u001b[0;31m     \u001b[0mprint\u001b[0m\u001b[0;34m(\u001b[0m\u001b[0msum\u001b[0m\u001b[0;34m(\u001b[0m\u001b[0ml1\u001b[0m\u001b[0;34m,\u001b[0m \u001b[0ml2\u001b[0m\u001b[0;34m)\u001b[0m\u001b[0;34m)\u001b[0m\u001b[0;34m\u001b[0m\u001b[0;34m\u001b[0m\u001b[0m\n\u001b[0m\u001b[1;32m      6\u001b[0m \u001b[0;32melse\u001b[0m\u001b[0;34m:\u001b[0m\u001b[0;34m\u001b[0m\u001b[0;34m\u001b[0m\u001b[0m\n\u001b[1;32m      7\u001b[0m     \u001b[0mprint\u001b[0m\u001b[0;34m(\u001b[0m\u001b[0;34m\"None\"\u001b[0m\u001b[0;34m)\u001b[0m\u001b[0;34m\u001b[0m\u001b[0;34m\u001b[0m\u001b[0m\n",
      "\u001b[0;31mTypeError\u001b[0m: can only concatenate list (not \"int\") to list"
     ]
    }
   ],
   "source": [
    "l1=[1,2,3]\n",
    "l2=[1,5,9]\n",
    "\n",
    "if len(l1)==len(l2):\n",
    "    print(sum(l1, l2))\n",
    "else:\n",
    "    print(\"None\")"
   ]
  },
  {
   "cell_type": "code",
   "execution_count": 5,
   "id": "b606bd2c",
   "metadata": {},
   "outputs": [
    {
     "data": {
      "text/plain": [
       "[1, 2, 3, 4, 6, 7, 8, 9]"
      ]
     },
     "execution_count": 5,
     "metadata": {},
     "output_type": "execute_result"
    }
   ],
   "source": [
    "list1=[1,2,3,4]\n",
    "list2=[6,7,8,9]\n",
    "\n",
    "def join_equal_lists(list1,list2):\n",
    "    list3=[]\n",
    "    if len(list1)==len(list2):\n",
    "        return (list1+list2)\n",
    "    else:\n",
    "        print(none)\n",
    "list1=[1,2,3,4]\n",
    "list2=[6,7,8,9]\n",
    "join_equal_lists(list1,list2)"
   ]
  },
  {
   "cell_type": "code",
   "execution_count": 6,
   "id": "f39b7708",
   "metadata": {},
   "outputs": [],
   "source": [
    "def sum_of_list(list1,list2):\n",
    "    new_list=[]\n",
    "    if len(list1)==len(list2):\n",
    "        for i in range(len(list1)):\n",
    "            new_list.append(list1[i]+list2[i])\n",
    "        return new_list\n",
    "    else:\n",
    "        return None\n",
    "            "
   ]
  },
  {
   "cell_type": "code",
   "execution_count": 8,
   "id": "2068c3e6",
   "metadata": {},
   "outputs": [
    {
     "name": "stdout",
     "output_type": "stream",
     "text": [
      "None\n"
     ]
    }
   ],
   "source": [
    "x=sum_of_list([1,3],[4,5,6])\n",
    "print(x)"
   ]
  },
  {
   "cell_type": "code",
   "execution_count": 14,
   "id": "b19762cb",
   "metadata": {},
   "outputs": [],
   "source": [
    "#Namespaces: local,global,built in\n",
    "\n",
    "x=12  #global variable\n",
    "y=10 #global variable\n",
    "def fun (x,y): #global variable\n",
    "    c=x+y \n",
    "    print(c)#local here\n",
    "    return c"
   ]
  },
  {
   "cell_type": "code",
   "execution_count": 15,
   "id": "fd6916d5",
   "metadata": {},
   "outputs": [
    {
     "name": "stdout",
     "output_type": "stream",
     "text": [
      "70\n",
      "70\n"
     ]
    }
   ],
   "source": [
    "print(fun(30,40))"
   ]
  },
  {
   "cell_type": "code",
   "execution_count": 12,
   "id": "9da570c5",
   "metadata": {},
   "outputs": [
    {
     "name": "stdout",
     "output_type": "stream",
     "text": [
      "22\n"
     ]
    }
   ],
   "source": [
    "print(x+y)"
   ]
  },
  {
   "cell_type": "code",
   "execution_count": 13,
   "id": "06a21677",
   "metadata": {},
   "outputs": [
    {
     "ename": "NameError",
     "evalue": "name 'c' is not defined",
     "output_type": "error",
     "traceback": [
      "\u001b[0;31m---------------------------------------------------------------------------\u001b[0m",
      "\u001b[0;31mNameError\u001b[0m                                 Traceback (most recent call last)",
      "\u001b[0;32m<ipython-input-13-1f3046adf707>\u001b[0m in \u001b[0;36m<module>\u001b[0;34m\u001b[0m\n\u001b[0;32m----> 1\u001b[0;31m \u001b[0mprint\u001b[0m\u001b[0;34m(\u001b[0m\u001b[0mx\u001b[0m\u001b[0;34m+\u001b[0m\u001b[0mc\u001b[0m\u001b[0;34m)\u001b[0m\u001b[0;34m\u001b[0m\u001b[0;34m\u001b[0m\u001b[0m\n\u001b[0m",
      "\u001b[0;31mNameError\u001b[0m: name 'c' is not defined"
     ]
    }
   ],
   "source": [
    "print(x+c)"
   ]
  },
  {
   "cell_type": "code",
   "execution_count": null,
   "id": "f782653e",
   "metadata": {},
   "outputs": [],
   "source": [
    "We can use local variable inside it's own function only but we can use gloabl variable aroung the code anywhere.\n",
    "\n",
    "Namespaces is like a table which have names you can access those names accoding to rule.\n"
   ]
  }
 ],
 "metadata": {
  "kernelspec": {
   "display_name": "Python 3",
   "language": "python",
   "name": "python3"
  },
  "language_info": {
   "codemirror_mode": {
    "name": "ipython",
    "version": 3
   },
   "file_extension": ".py",
   "mimetype": "text/x-python",
   "name": "python",
   "nbconvert_exporter": "python",
   "pygments_lexer": "ipython3",
   "version": "3.8.8"
  }
 },
 "nbformat": 4,
 "nbformat_minor": 5
}
