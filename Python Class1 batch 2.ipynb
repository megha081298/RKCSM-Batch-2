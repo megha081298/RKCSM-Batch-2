{
 "cells": [
  {
   "cell_type": "markdown",
   "id": "d2ef1406",
   "metadata": {},
   "source": [
    "File extension of python => File_name.py\n",
    "\n",
    "#what is python for data sceince?\n",
    "python is an interpreter also a programming language which helps in data science in statistical format to perform different \n",
    "mathematical formats.\n",
    "\n",
    "\n",
    "Two modes present in jupyter notebook:\n",
    "    1. Code mode (Green)\n",
    "    2. CMD mode (blue) by pressing esc.\n",
    "    \n",
    "how to run a code cell in jupyter:\n",
    "   by pressing SHIFT+ENTER=> ADD NEW CELL AND RUN CURRENT CELL.\n",
    "   \n",
    "   \n",
    "   \n",
    "How delete some cell in Jupyter?\n",
    "   click on the cell and press \"X\"."
   ]
  },
  {
   "cell_type": "markdown",
   "id": "a47e77cb",
   "metadata": {},
   "source": [
    "# ##HEADING 1"
   ]
  },
  {
   "cell_type": "markdown",
   "id": "09ea7295",
   "metadata": {},
   "source": [
    "# HEADING 2"
   ]
  },
  {
   "cell_type": "markdown",
   "id": "475a43ef",
   "metadata": {},
   "source": [
    "####HEADING "
   ]
  },
  {
   "cell_type": "code",
   "execution_count": 7,
   "id": "b0f15fef",
   "metadata": {},
   "outputs": [
    {
     "name": "stdout",
     "output_type": "stream",
     "text": [
      "100 -1000 Megha Shweta\n"
     ]
    }
   ],
   "source": [
    "print(\"100 -1000 Megha Shweta\")"
   ]
  },
  {
   "cell_type": "markdown",
   "id": "c6ecb0b8",
   "metadata": {},
   "source": [
    "# What is data?"
   ]
  },
  {
   "cell_type": "markdown",
   "id": "ad55d55a",
   "metadata": {},
   "source": [
    "Data is nothing but anything which consist of information and set of characters.\n",
    "\n",
    "Python have data types to store different types of data.\n",
    "\n",
    "Pyhton is case sensitive which means it adhere if the cases go wrong.\n",
    "\n",
    "what is Builtin data type?\n",
    "Already present in python or predefined.\n",
    "\n",
    "\n",
    "What are different data types in python.\n",
    "\n",
    "1. int => Integer  => -100,100,0,1,999,88   immutable\n",
    "2. Float => decimal => -100.1,100.1,1.1,99.9  immutable\n",
    "3. String => combination of different charac. =>  \"100 -1000 Megha Shweta\",'megha',\"\"\"megha\"\"\" immutable\n",
    "4. list => combination that can be placed inside square brackets  =>  [2,2.0,788540,\"Megha\"]  mutable: edit\n",
    "5. Tuple => combination that can be placed inside curved brackets => (2,\"hey,-100\",100)      immutable : non-edit\n",
    "6. Dictionary => key value pair  => {\"Megha\":30,30:\"Megha\",30:30}  =>{key:value}      mutable\n",
    "7. Set => it contain unique values or you can say non duplicated. => {122,22,22,22}   mutable\n",
    "8.Boolean True False.\n",
    "\n",
    "\n",
    "\n",
    "type() will print the data type of the variable.\n",
    "\n",
    "\n",
    "Data types that are collection of other data types:\n",
    "    list\n",
    "    tuple\n",
    "    Dictionary\n",
    "    Sets\n"
   ]
  },
  {
   "cell_type": "code",
   "execution_count": 12,
   "id": "63fc98f2",
   "metadata": {},
   "outputs": [
    {
     "name": "stdout",
     "output_type": "stream",
     "text": [
      "<class 'set'>\n"
     ]
    }
   ],
   "source": [
    "A2s={2,2,4,5,6}    #variable declaration\n",
    "print(type(A2s))"
   ]
  },
  {
   "cell_type": "code",
   "execution_count": 10,
   "id": "96dd173e",
   "metadata": {},
   "outputs": [
    {
     "name": "stdout",
     "output_type": "stream",
     "text": [
      "X\n"
     ]
    }
   ],
   "source": [
    "print(\"X\")"
   ]
  },
  {
   "cell_type": "code",
   "execution_count": 14,
   "id": "b9e14eec",
   "metadata": {},
   "outputs": [
    {
     "name": "stdout",
     "output_type": "stream",
     "text": [
      "<class 'dict'>\n"
     ]
    }
   ],
   "source": [
    "X={\"Megha\":5,\"Umesh\":7}\n",
    "print(type(X))"
   ]
  },
  {
   "cell_type": "code",
   "execution_count": 17,
   "id": "685e67bc",
   "metadata": {},
   "outputs": [],
   "source": [
    "Y=(4,5,6,\"List\",\"String\")\n"
   ]
  },
  {
   "cell_type": "code",
   "execution_count": 19,
   "id": "962da8de",
   "metadata": {},
   "outputs": [
    {
     "name": "stdout",
     "output_type": "stream",
     "text": [
      "(4, 5, 6, 'List', 'String')\n"
     ]
    }
   ],
   "source": [
    "print(Y)"
   ]
  },
  {
   "cell_type": "code",
   "execution_count": 3,
   "id": "6f8cc7cf",
   "metadata": {},
   "outputs": [
    {
     "name": "stdout",
     "output_type": "stream",
     "text": [
      "<class 'int'>\n"
     ]
    }
   ],
   "source": [
    "num1=100\n",
    "num2=200 #Addition for numbers\n",
    "\n",
    "num3=num1+num2\n",
    "print(type(num3))\n"
   ]
  },
  {
   "cell_type": "code",
   "execution_count": 32,
   "id": "b9b08b26",
   "metadata": {},
   "outputs": [],
   "source": [
    "Str1=\"hey \"\n",
    "Str2=\" How are you doing\"  #concatenation for string\n",
    "\n",
    "Str3=Str1+Str2\n"
   ]
  },
  {
   "cell_type": "code",
   "execution_count": 33,
   "id": "71fe686f",
   "metadata": {},
   "outputs": [
    {
     "data": {
      "text/plain": [
       "'hey  How are you doing'"
      ]
     },
     "execution_count": 33,
     "metadata": {},
     "output_type": "execute_result"
    }
   ],
   "source": [
    "Str3"
   ]
  },
  {
   "cell_type": "code",
   "execution_count": 23,
   "id": "9876f5a1",
   "metadata": {},
   "outputs": [
    {
     "name": "stdout",
     "output_type": "stream",
     "text": [
      "<class 'tuple'>\n"
     ]
    }
   ],
   "source": [
    "tuple1=(\"megha\",)\n",
    "print(type(tuple1))"
   ]
  },
  {
   "cell_type": "code",
   "execution_count": 24,
   "id": "2f2299f1",
   "metadata": {},
   "outputs": [
    {
     "name": "stdout",
     "output_type": "stream",
     "text": [
      "<class 'list'>\n"
     ]
    }
   ],
   "source": [
    "list1=[\"megha\"]\n",
    "print(type(list1))"
   ]
  },
  {
   "cell_type": "code",
   "execution_count": 122,
   "id": "1d0f8410",
   "metadata": {},
   "outputs": [
    {
     "data": {
      "text/plain": [
       "[1, 2, 'megha']"
      ]
     },
     "execution_count": 122,
     "metadata": {},
     "output_type": "execute_result"
    }
   ],
   "source": [
    "list5=[1,2,3]\n",
    "list5.insert(4,\"megha\")   #.insert(index_position,value)  #adding element \n",
    "list5\n",
    "\n",
    "list5.remove(3)     #removing element.\n",
    "list5"
   ]
  },
  {
   "cell_type": "code",
   "execution_count": 117,
   "id": "a06dc712",
   "metadata": {},
   "outputs": [
    {
     "name": "stdout",
     "output_type": "stream",
     "text": [
      "[1, 2, 3, 'megha', (6, 7, 8), 'megha', 'megha']\n"
     ]
    }
   ],
   "source": []
  },
  {
   "cell_type": "code",
   "execution_count": 27,
   "id": "57851d13",
   "metadata": {},
   "outputs": [],
   "source": [
    "tuple1=([1,2,3],67)"
   ]
  },
  {
   "cell_type": "code",
   "execution_count": 28,
   "id": "a2371754",
   "metadata": {},
   "outputs": [
    {
     "data": {
      "text/plain": [
       "([1, 2, 3], 67)"
      ]
     },
     "execution_count": 28,
     "metadata": {},
     "output_type": "execute_result"
    }
   ],
   "source": [
    "tuple1"
   ]
  },
  {
   "cell_type": "code",
   "execution_count": 33,
   "id": "8a1939d7",
   "metadata": {},
   "outputs": [
    {
     "name": "stdout",
     "output_type": "stream",
     "text": [
      "aanything inside double quotation is string\n",
      "<class 'str'>\n"
     ]
    }
   ],
   "source": [
    "#Strings:\n",
    "\n",
    "#set of characters present inside double quotation mark (everything in the keyboard.)\n",
    "\n",
    "\n",
    "Str=\"aanything inside double quotation is string\"   #Strings are uneditable or immutable\n",
    "print(Str)                                          #Strings support indexing\n",
    "print(type(Str))"
   ]
  },
  {
   "cell_type": "code",
   "execution_count": 40,
   "id": "6ada074b",
   "metadata": {},
   "outputs": [
    {
     "data": {
      "text/plain": [
       "'a'"
      ]
     },
     "execution_count": 40,
     "metadata": {},
     "output_type": "execute_result"
    }
   ],
   "source": [
    "Str[0]"
   ]
  },
  {
   "cell_type": "code",
   "execution_count": 32,
   "id": "a6dac60e",
   "metadata": {},
   "outputs": [
    {
     "data": {
      "text/plain": [
       "' '"
      ]
     },
     "execution_count": 32,
     "metadata": {},
     "output_type": "execute_result"
    }
   ],
   "source": [
    "Str[8]"
   ]
  },
  {
   "cell_type": "code",
   "execution_count": 57,
   "id": "e28d67b9",
   "metadata": {},
   "outputs": [
    {
     "name": "stdout",
     "output_type": "stream",
     "text": [
      "1\n",
      "<class 'list'>\n"
     ]
    },
    {
     "ename": "IndexError",
     "evalue": "list assignment index out of range",
     "output_type": "error",
     "traceback": [
      "\u001b[0;31m---------------------------------------------------------------------------\u001b[0m",
      "\u001b[0;31mIndexError\u001b[0m                                Traceback (most recent call last)",
      "\u001b[0;32m<ipython-input-57-75c758fac121>\u001b[0m in \u001b[0;36m<module>\u001b[0;34m\u001b[0m\n\u001b[1;32m      5\u001b[0m \u001b[0mlist2\u001b[0m\u001b[0;34m=\u001b[0m\u001b[0;34m[\u001b[0m\u001b[0;34m\"megha\"\u001b[0m\u001b[0;34m]\u001b[0m\u001b[0;34m\u001b[0m\u001b[0;34m\u001b[0m\u001b[0m\n\u001b[1;32m      6\u001b[0m \u001b[0mprint\u001b[0m\u001b[0;34m(\u001b[0m\u001b[0mtype\u001b[0m\u001b[0;34m(\u001b[0m\u001b[0mlist2\u001b[0m\u001b[0;34m)\u001b[0m\u001b[0;34m)\u001b[0m\u001b[0;34m\u001b[0m\u001b[0;34m\u001b[0m\u001b[0m\n\u001b[0;32m----> 7\u001b[0;31m \u001b[0mList1\u001b[0m\u001b[0;34m[\u001b[0m\u001b[0;36m3\u001b[0m\u001b[0;34m]\u001b[0m\u001b[0;34m=\u001b[0m\u001b[0;34m\"Umesh\"\u001b[0m\u001b[0;34m\u001b[0m\u001b[0;34m\u001b[0m\u001b[0m\n\u001b[0m\u001b[1;32m      8\u001b[0m \u001b[0mprint\u001b[0m\u001b[0;34m(\u001b[0m\u001b[0mList1\u001b[0m\u001b[0;34m)\u001b[0m\u001b[0;34m\u001b[0m\u001b[0;34m\u001b[0m\u001b[0m\n",
      "\u001b[0;31mIndexError\u001b[0m: list assignment index out of range"
     ]
    }
   ],
   "source": [
    "#Lists:\n",
    "\n",
    "List1=[1,1.0,\"String\"]     #lists are mutable.\n",
    "print(List1[0]) #lists supports indexing.\n",
    "list2=[\"megha\"]\n",
    "print(type(list2))\n",
    "#List1[3]=\"Umesh\"\n",
    "#print(List1)"
   ]
  },
  {
   "cell_type": "code",
   "execution_count": 38,
   "id": "0da85378",
   "metadata": {},
   "outputs": [
    {
     "name": "stdout",
     "output_type": "stream",
     "text": [
      "1.0\n"
     ]
    }
   ],
   "source": [
    "print(List1[1])"
   ]
  },
  {
   "cell_type": "code",
   "execution_count": 39,
   "id": "d0c2628b",
   "metadata": {},
   "outputs": [
    {
     "name": "stdout",
     "output_type": "stream",
     "text": [
      "String\n"
     ]
    }
   ],
   "source": [
    "print(List1[2])"
   ]
  },
  {
   "cell_type": "code",
   "execution_count": 41,
   "id": "bef908b6",
   "metadata": {},
   "outputs": [],
   "source": [
    "List1[2]=\"Megha\""
   ]
  },
  {
   "cell_type": "code",
   "execution_count": 42,
   "id": "71206fee",
   "metadata": {},
   "outputs": [
    {
     "name": "stdout",
     "output_type": "stream",
     "text": [
      "Megha\n"
     ]
    }
   ],
   "source": [
    "print(List1[2])"
   ]
  },
  {
   "cell_type": "code",
   "execution_count": 43,
   "id": "02f99da8",
   "metadata": {},
   "outputs": [
    {
     "name": "stdout",
     "output_type": "stream",
     "text": [
      "[1, 1.0, 'Megha']\n"
     ]
    }
   ],
   "source": [
    "print(List1)"
   ]
  },
  {
   "cell_type": "code",
   "execution_count": 62,
   "id": "ac0de0b7",
   "metadata": {},
   "outputs": [
    {
     "name": "stdout",
     "output_type": "stream",
     "text": [
      "[1, 3, ['megha', 'shweta', 'umesh'], 'shristi']\n"
     ]
    }
   ],
   "source": [
    "list45=[1,3,[\"megha\",\"shweta\",\"umesh\"],(\"shristi\")]\n",
    "print(list45)"
   ]
  },
  {
   "cell_type": "code",
   "execution_count": 44,
   "id": "8fb3450b",
   "metadata": {},
   "outputs": [
    {
     "name": "stdout",
     "output_type": "stream",
     "text": [
      "1\n"
     ]
    }
   ],
   "source": [
    "#Tuple:\n",
    "\n",
    "Tuple1=(1,1.0,\"String\")     #Tuples are immutable\n",
    "print(Tuple1[0])            #tuples supports indexing"
   ]
  },
  {
   "cell_type": "code",
   "execution_count": 45,
   "id": "55ce9ae9",
   "metadata": {},
   "outputs": [
    {
     "name": "stdout",
     "output_type": "stream",
     "text": [
      "1.0\n"
     ]
    }
   ],
   "source": [
    "print(Tuple1[1])"
   ]
  },
  {
   "cell_type": "code",
   "execution_count": 46,
   "id": "202f6072",
   "metadata": {},
   "outputs": [
    {
     "name": "stdout",
     "output_type": "stream",
     "text": [
      "String\n"
     ]
    }
   ],
   "source": [
    "print(Tuple1[2])"
   ]
  },
  {
   "cell_type": "code",
   "execution_count": 47,
   "id": "16b53f8a",
   "metadata": {},
   "outputs": [
    {
     "ename": "TypeError",
     "evalue": "'tuple' object does not support item assignment",
     "output_type": "error",
     "traceback": [
      "\u001b[0;31m---------------------------------------------------------------------------\u001b[0m",
      "\u001b[0;31mTypeError\u001b[0m                                 Traceback (most recent call last)",
      "\u001b[0;32m<ipython-input-47-b458687cb24c>\u001b[0m in \u001b[0;36m<module>\u001b[0;34m\u001b[0m\n\u001b[0;32m----> 1\u001b[0;31m \u001b[0mTuple1\u001b[0m\u001b[0;34m[\u001b[0m\u001b[0;36m2\u001b[0m\u001b[0;34m]\u001b[0m\u001b[0;34m=\u001b[0m\u001b[0;34m\"Megha\"\u001b[0m\u001b[0;34m\u001b[0m\u001b[0;34m\u001b[0m\u001b[0m\n\u001b[0m",
      "\u001b[0;31mTypeError\u001b[0m: 'tuple' object does not support item assignment"
     ]
    }
   ],
   "source": [
    "Tuple1[2]=\"Megha\""
   ]
  },
  {
   "cell_type": "code",
   "execution_count": 55,
   "id": "ba667aa7",
   "metadata": {},
   "outputs": [
    {
     "data": {
      "text/plain": [
       "'megha'"
      ]
     },
     "execution_count": 55,
     "metadata": {},
     "output_type": "execute_result"
    }
   ],
   "source": [
    "tuple2=(\"megha\",)\n",
    "type(tuple2)\n",
    "tuple2[0]"
   ]
  },
  {
   "cell_type": "code",
   "execution_count": 64,
   "id": "52f18a6f",
   "metadata": {},
   "outputs": [
    {
     "name": "stdout",
     "output_type": "stream",
     "text": [
      "(5, 6, 7, ['megha'])\n"
     ]
    }
   ],
   "source": [
    "Tupple4=(5,6,7,[\"megha\"])\n",
    "print(Tupple4)"
   ]
  },
  {
   "cell_type": "code",
   "execution_count": 49,
   "id": "32f4d3a6",
   "metadata": {},
   "outputs": [
    {
     "name": "stdout",
     "output_type": "stream",
     "text": [
      "{'a': 'value'}\n"
     ]
    }
   ],
   "source": [
    "#Dictionaries\n",
    "\n",
    "                      #indexing and mutability we will figure out\n",
    "A={\"a\":\"value\"}\n",
    "print(A)"
   ]
  },
  {
   "cell_type": "code",
   "execution_count": 50,
   "id": "338f3463",
   "metadata": {},
   "outputs": [
    {
     "name": "stdout",
     "output_type": "stream",
     "text": [
      "{'aaa': 23}\n"
     ]
    }
   ],
   "source": [
    "D1={\"aaa\":23}\n",
    "print(D1)"
   ]
  },
  {
   "cell_type": "code",
   "execution_count": 124,
   "id": "07e9e39c",
   "metadata": {},
   "outputs": [
    {
     "name": "stdout",
     "output_type": "stream",
     "text": [
      "{'string': 10, 32: 'string', 'megha': 20}\n"
     ]
    }
   ],
   "source": [
    "Dict1={\"string\":32,32:\"string\"}  #mutable  Adding the elements\n",
    "Dict1[\"string\"]=10\n",
    "Dict1[\"megha\"]=20\n",
    "print(Dict1)"
   ]
  },
  {
   "cell_type": "code",
   "execution_count": 108,
   "id": "c4fd4fc8",
   "metadata": {},
   "outputs": [
    {
     "name": "stdout",
     "output_type": "stream",
     "text": [
      "{}\n"
     ]
    }
   ],
   "source": [
    "Dict2={\"python\":5,\"Java\":4}  #removing all the elements on one go.\n",
    "Dict2.clear()\n",
    "print(Dict2)"
   ]
  },
  {
   "cell_type": "code",
   "execution_count": 109,
   "id": "17ed370e",
   "metadata": {},
   "outputs": [
    {
     "name": "stdout",
     "output_type": "stream",
     "text": [
      "{'python': 5}\n"
     ]
    }
   ],
   "source": [
    "Dict3={\"python\":5,\"Java\":4}  #remove the particular element.\n",
    "Dict3.pop(\"Java\")\n",
    "print(Dict3)"
   ]
  },
  {
   "cell_type": "code",
   "execution_count": 102,
   "id": "cdda9611",
   "metadata": {},
   "outputs": [
    {
     "name": "stdout",
     "output_type": "stream",
     "text": [
      "{(1, 23, 3): 'megha'}\n"
     ]
    }
   ],
   "source": [
    "Dict2={(1,23,3):\"megha\"}  #unhashbale \n",
    "print(Dict2)"
   ]
  },
  {
   "cell_type": "code",
   "execution_count": null,
   "id": "9fafa7fe",
   "metadata": {},
   "outputs": [],
   "source": [
    "#if keys are unique and uneditable in dictionaries(you need to keep it in mind that you should provide keys which are of same property,\n",
    "#will that make dict immutable/uneditable?\n",
    "#does dictionary supports indexing?   #No dictionary doesnot support indexing.\n"
   ]
  },
  {
   "cell_type": "code",
   "execution_count": 99,
   "id": "04fed498",
   "metadata": {},
   "outputs": [
    {
     "data": {
      "text/plain": [
       "'string'"
      ]
     },
     "execution_count": 99,
     "metadata": {},
     "output_type": "execute_result"
    }
   ],
   "source": [
    "Dict1[32]"
   ]
  },
  {
   "cell_type": "code",
   "execution_count": 105,
   "id": "2ad3492c",
   "metadata": {},
   "outputs": [
    {
     "name": "stdout",
     "output_type": "stream",
     "text": [
      "{1, 5, 7, 8, 9, 10, (1, 2, 3)}\n"
     ]
    }
   ],
   "source": [
    "#Sets: are unique and not duplicated.\n",
    "#does set supports indexing?\n",
    "#are sets mutable? yes   \n",
    "#sets supports tuples but not lists.\n",
    "\n",
    "\n",
    "S={1,5,7,8,7,8,9,10,(1,2,3)}\n",
    "print(S)"
   ]
  },
  {
   "cell_type": "code",
   "execution_count": 110,
   "id": "6d8da852",
   "metadata": {},
   "outputs": [
    {
     "name": "stdout",
     "output_type": "stream",
     "text": [
      "{1, 5, 7, 8, 9, 10, (1, 2, 3), 'megha'}\n"
     ]
    }
   ],
   "source": [
    "S.add(\"megha\")\n",
    "print(S)"
   ]
  },
  {
   "cell_type": "code",
   "execution_count": 111,
   "id": "6c577dc7",
   "metadata": {},
   "outputs": [],
   "source": [
    "S.discard(10)"
   ]
  },
  {
   "cell_type": "code",
   "execution_count": 112,
   "id": "bc1e794e",
   "metadata": {},
   "outputs": [
    {
     "data": {
      "text/plain": [
       "{(1, 2, 3), 1, 5, 7, 8, 9, 'megha'}"
      ]
     },
     "execution_count": 112,
     "metadata": {},
     "output_type": "execute_result"
    }
   ],
   "source": [
    "S"
   ]
  },
  {
   "cell_type": "code",
   "execution_count": null,
   "id": "3793d3e8",
   "metadata": {},
   "outputs": [],
   "source": [
    "Data types which are mutable/ editable:\n",
    "    1.list\n",
    "    2.Dict\n",
    "    3.Set\n",
    "Data types which are uneditable:\n",
    "    1. Int\n",
    "    2. Float\n",
    "    3. String\n",
    "    4. tuple\n",
    "    5. Boolean"
   ]
  },
  {
   "cell_type": "markdown",
   "id": "36d4ad97",
   "metadata": {},
   "source": [
    "# Type casting:\n"
   ]
  },
  {
   "cell_type": "markdown",
   "id": "1b9bada5",
   "metadata": {},
   "source": [
    "1.Type casting is converting a type of data into another type based on requirement.\n",
    "2. Not every data type supports type casting.\n"
   ]
  },
  {
   "cell_type": "code",
   "execution_count": 128,
   "id": "de8b0819",
   "metadata": {},
   "outputs": [
    {
     "data": {
      "text/plain": [
       "list"
      ]
     },
     "execution_count": 128,
     "metadata": {},
     "output_type": "execute_result"
    }
   ],
   "source": [
    "#list to tuple:\n",
    "\n",
    "PQR=[\"clsses\",\"people\",\"fruit\",1,2,3]\n",
    "x=tuple(PQR)\n",
    "print(type(x))\n",
    "\n",
    "type(PQR)"
   ]
  },
  {
   "cell_type": "code",
   "execution_count": 131,
   "id": "31f31e95",
   "metadata": {},
   "outputs": [
    {
     "name": "stdout",
     "output_type": "stream",
     "text": [
      "<class 'tuple'>\n"
     ]
    }
   ],
   "source": [
    "#tuple to list:\n",
    "\n",
    "Tuple1=(1,2,4,\"hey\",1.0)\n",
    "y=list(Tuple1)\n",
    "print(type(y))\n",
    "\n",
    "print(type(Tuple1))"
   ]
  },
  {
   "cell_type": "code",
   "execution_count": 132,
   "id": "f386671b",
   "metadata": {},
   "outputs": [
    {
     "name": "stdout",
     "output_type": "stream",
     "text": [
      "['I', ' ', 'a', 'm', ' ', 'e', 'n', 'j', 'o', 'y', 'i', 'n', 'g', ' ', 'l', 'e', 'a', 'r', 'n', 'i', 'n', 'g', ' ', 'h', 'e', 'r', 'e', '.']\n"
     ]
    }
   ],
   "source": [
    "#strings to list:\n",
    "\n",
    "String1=\"I am enjoying learning here.\"\n",
    "list5=list(String1)\n",
    "print(list5)"
   ]
  },
  {
   "cell_type": "code",
   "execution_count": 133,
   "id": "51525842",
   "metadata": {},
   "outputs": [
    {
     "ename": "TypeError",
     "evalue": "'set' object is not callable",
     "output_type": "error",
     "traceback": [
      "\u001b[0;31m---------------------------------------------------------------------------\u001b[0m",
      "\u001b[0;31mTypeError\u001b[0m                                 Traceback (most recent call last)",
      "\u001b[0;32m<ipython-input-133-c1a005f3f423>\u001b[0m in \u001b[0;36m<module>\u001b[0;34m\u001b[0m\n\u001b[1;32m      1\u001b[0m \u001b[0mD\u001b[0m\u001b[0;34m=\u001b[0m\u001b[0;34m{\u001b[0m\u001b[0;34m\"Megha\"\u001b[0m\u001b[0;34m:\u001b[0m\u001b[0;36m5\u001b[0m\u001b[0;34m,\u001b[0m\u001b[0;34m\"Priya\"\u001b[0m\u001b[0;34m:\u001b[0m\u001b[0;36m67\u001b[0m\u001b[0;34m}\u001b[0m\u001b[0;34m\u001b[0m\u001b[0;34m\u001b[0m\u001b[0m\n\u001b[0;32m----> 2\u001b[0;31m \u001b[0mC\u001b[0m\u001b[0;34m=\u001b[0m\u001b[0mset\u001b[0m\u001b[0;34m(\u001b[0m\u001b[0mD\u001b[0m\u001b[0;34m)\u001b[0m\u001b[0;34m\u001b[0m\u001b[0;34m\u001b[0m\u001b[0m\n\u001b[0m\u001b[1;32m      3\u001b[0m \u001b[0mprint\u001b[0m\u001b[0;34m(\u001b[0m\u001b[0mC\u001b[0m\u001b[0;34m)\u001b[0m\u001b[0;34m\u001b[0m\u001b[0;34m\u001b[0m\u001b[0m\n",
      "\u001b[0;31mTypeError\u001b[0m: 'set' object is not callable"
     ]
    }
   ],
   "source": [
    "D={\"Megha\":5,\"Priya\":67}  #no typecasting allowed.\n",
    "C=set(D)\n",
    "print(C)"
   ]
  },
  {
   "cell_type": "code",
   "execution_count": 136,
   "id": "46be4b83",
   "metadata": {},
   "outputs": [
    {
     "name": "stdout",
     "output_type": "stream",
     "text": [
      "{'megha': 6, 'Hey': 7}\n"
     ]
    }
   ],
   "source": [
    "Z=[(\"megha\",6),(\"Hey\",7)]\n",
    "q=dict(Z)\n",
    "print(q)"
   ]
  },
  {
   "cell_type": "code",
   "execution_count": null,
   "id": "efb98e91",
   "metadata": {},
   "outputs": [],
   "source": []
  }
 ],
 "metadata": {
  "kernelspec": {
   "display_name": "Python 3",
   "language": "python",
   "name": "python3"
  },
  "language_info": {
   "codemirror_mode": {
    "name": "ipython",
    "version": 3
   },
   "file_extension": ".py",
   "mimetype": "text/x-python",
   "name": "python",
   "nbconvert_exporter": "python",
   "pygments_lexer": "ipython3",
   "version": "3.8.8"
  }
 },
 "nbformat": 4,
 "nbformat_minor": 5
}
